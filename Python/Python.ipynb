{
 "cells": [
  {
   "cell_type": "markdown",
   "metadata": {},
   "source": [
    "# Python"
   ]
  },
  {
   "cell_type": "markdown",
   "metadata": {},
   "source": [
    "## Básico"
   ]
  },
  {
   "cell_type": "markdown",
   "metadata": {},
   "source": [
    "### Variáveis, input e formatação"
   ]
  },
  {
   "cell_type": "code",
   "execution_count": null,
   "metadata": {},
   "outputs": [],
   "source": [
    "user = input(\"Insert your name: \")\n",
    "age = int(input(\"Insert your age: \"))\n",
    "days = age*365\n",
    "print(\"Your name is {} and {} years in days is {}\".format(user, age, days))"
   ]
  },
  {
   "cell_type": "markdown",
   "metadata": {},
   "source": [
    "### Listas, tuplas e conjuntos"
   ]
  },
  {
   "cell_type": "markdown",
   "metadata": {},
   "source": [
    " - Uma tupla é como uma lista só que imutável\n",
    "   - Não é possível remover e modificar elementos em uma tupla como em uma lista\n",
    " - Um conjunto é uma lista que não armazena dois dados iguais\n",
    "   - Não mantém a ordem\n",
    "   - Não podem ser acessados por notação"
   ]
  },
  {
   "cell_type": "markdown",
   "metadata": {},
   "source": [
    "> append(x) adiciona x ao final de uma lista ou conjunto"
   ]
  },
  {
   "cell_type": "code",
   "execution_count": 20,
   "metadata": {},
   "outputs": [
    {
     "name": "stdout",
     "output_type": "stream",
     "text": [
      "Bob\n",
      "Anne\n",
      "['Smith', 'Rolf', 'Anne']\n",
      "['Smith', 'Rolf', 'Anne', 'Bob']\n",
      "['Smith', 'Anne', 'Bob']\n",
      "{'Smith', 'Anne', 'Bob', 'Rolf'}\n"
     ]
    }
   ],
   "source": [
    "# lista\n",
    "l = [\"Bob\", \"Rolf\", \"Anne\"]\n",
    "print(l[0])\n",
    "\n",
    "# tupla\n",
    "t = (\"Bob\", \"Rolf\", \"Anne\")\n",
    "print(t[2])\n",
    "\n",
    "# conjunto\n",
    "c = {\"Bob\", \"Rolf\", \"Anne\"}\n",
    "\n",
    "# modificar elemento em uma lista\n",
    "l[0] = \"Smith\" # não é possível fazer isso com uma tupla\n",
    "\n",
    "print(l)\n",
    "\n",
    "# adicionar elemento ao final da lista\n",
    "l.append(\"Bob\") # não é possível fazer isso com uma tupla\n",
    "\n",
    "print(l)\n",
    "\n",
    "# remover elemento de uma lista\n",
    "l.remove(\"Rolf\")\n",
    "\n",
    "print(l)\n",
    "\n",
    "# adicionar elemento a um conjunto\n",
    "c.add(\"Smith\")\n",
    "c.add(\"Smith\") # Smith só entra uma vez\n",
    "print(c)"
   ]
  },
  {
   "cell_type": "markdown",
   "metadata": {},
   "source": [
    "#### Por que conjuntos são úteis?"
   ]
  },
  {
   "cell_type": "code",
   "execution_count": 23,
   "metadata": {},
   "outputs": [
    {
     "name": "stdout",
     "output_type": "stream",
     "text": [
      "{'Rolf'}\n"
     ]
    }
   ],
   "source": [
    "friends = {\"Bob\", \"Rolf\", \"Anne\"}\n",
    "abroad = {\"Bob\", \"Anne\"}\n",
    "\n",
    "# para descobrir amigos que não são no exterior\n",
    "local_friends = friends.difference(abroad) # calcula a diferença entre os dois conjuntos\n",
    "\n",
    "print(local_friends)"
   ]
  },
  {
   "cell_type": "markdown",
   "metadata": {},
   "source": [
    "> Conjuntos vazios podem ser criados com a seguinte notação\n",
    ">   - set()"
   ]
  },
  {
   "cell_type": "code",
   "execution_count": 24,
   "metadata": {},
   "outputs": [
    {
     "name": "stdout",
     "output_type": "stream",
     "text": [
      "{'Anne', 'Bob', 'Rolf'}\n"
     ]
    }
   ],
   "source": [
    "# é possível unir dois conjuntos em um\n",
    "local = {\"Rolf\"}\n",
    "abroad = {\"Bob\", \"Anne\"}\n",
    "\n",
    "friends = local.union(abroad)\n",
    "\n",
    "print(friends)"
   ]
  },
  {
   "cell_type": "markdown",
   "metadata": {},
   "source": [
    "> - Já sabemos como descobrir as diferenças e unir dois conjuntos\n",
    ">   - Mas como descobrir a intersecção?"
   ]
  },
  {
   "cell_type": "code",
   "execution_count": 26,
   "metadata": {},
   "outputs": [
    {
     "name": "stdout",
     "output_type": "stream",
     "text": [
      "{'Charlie', 'Rolf'}\n",
      "{'Anne', 'Adam'}\n",
      "{'Jen', 'Bob'}\n"
     ]
    }
   ],
   "source": [
    "art = {\"Bob\", \"Jen\", \"Rolf\", \"Charlie\"} # amigos que estudam artes\n",
    "science = {\"Bob\", \"Jen\", \"Adam\", \"Anne\"} # amigos que estudam ciências\n",
    "\n",
    "just_art = art.difference(science) # amigos que estudam apenas artes\n",
    "just_science = science.difference(art) # amigos que estudam apenas ciências\n",
    "both = art.intersection(science) # amigos que estudam ciências e artes\n",
    "\n",
    "print(just_art)\n",
    "print(just_science)\n",
    "print(both)"
   ]
  },
  {
   "cell_type": "markdown",
   "metadata": {},
   "source": [
    "### Booleanos em Python"
   ]
  },
  {
   "cell_type": "markdown",
   "metadata": {},
   "source": [
    "#### Comparações\n",
    "\n",
    "- Igualdade ==\n",
    "- Diferença !=\n",
    "- Maior que >\n",
    "- Menor que <\n",
    "- Maior igual a >=\n",
    "- Menor igual a <="
   ]
  },
  {
   "cell_type": "code",
   "execution_count": 31,
   "metadata": {},
   "outputs": [
    {
     "name": "stdout",
     "output_type": "stream",
     "text": [
      "True\n",
      "False\n",
      "False\n"
     ]
    }
   ],
   "source": [
    "print(5 == 5) # verifica se 5 é igual a 5\n",
    "print(5 > 5) # verifica se 5 é maior que 5\n",
    "print(5 != 5) # verifica se 5 é diferente de 5"
   ]
  },
  {
   "cell_type": "markdown",
   "metadata": {},
   "source": [
    "> Com a criação de uma nova lista, o sistema a coloca em um **novo** espaço de memória, fazendo assim as listas serem iguais mas não serem a mesma\n",
    "> - _is_ em python verifica se dois elementos são exatamente a mesma coisa, e não se o que eles contêm são o mesmo"
   ]
  },
  {
   "cell_type": "code",
   "execution_count": 2,
   "metadata": {},
   "outputs": [
    {
     "name": "stdout",
     "output_type": "stream",
     "text": [
      "True\n",
      "False\n",
      "True\n"
     ]
    }
   ],
   "source": [
    "friends = [\"Rolf\", \"Bob\"]\n",
    "abroad = [\"Rolf\", \"Bob\"]\n",
    "\n",
    "print(friends == abroad) # friends é IGUAL A abroad\n",
    "print(friends is abroad) # friends não É abroad\n",
    "\n",
    "abroad = friends\n",
    "\n",
    "print(friends is abroad) # retorna True pois agora abroad recebe friends, logo é ele"
   ]
  },
  {
   "cell_type": "markdown",
   "metadata": {},
   "source": [
    "### If em Python"
   ]
  },
  {
   "cell_type": "code",
   "execution_count": 9,
   "metadata": {},
   "outputs": [
    {
     "name": "stdout",
     "output_type": "stream",
     "text": [
      "Have a great start to your week!\n",
      "This aways runs\n"
     ]
    }
   ],
   "source": [
    "day_of_week = input(\"What day of the week is it today? \").lower() # o .lower() transforma o input em letras minúsculas\n",
    "\n",
    "if day_of_week == \"monday\": # se o dia da semana for Monday\n",
    "    print(\"Have a great start to your week!\") # desejará um bom início de semana\n",
    "elif day_of_week == \"friday\": # se o dia da semana for sexta\n",
    "    print(\"Sextou!\") # falará Sextou\n",
    "else: # se o dia da semana for qualquer outro\n",
    "    print(\"Full speed ahead!\") # falará para ir com toda velocidade\n",
    "\n",
    "print(\"This aways runs\") # comandos fora do if sempre rodam\n"
   ]
  },
  {
   "cell_type": "markdown",
   "metadata": {},
   "source": [
    "#### In"
   ]
  },
  {
   "cell_type": "code",
   "execution_count": 10,
   "metadata": {},
   "outputs": [
    {
     "name": "stdout",
     "output_type": "stream",
     "text": [
      "True\n"
     ]
    }
   ],
   "source": [
    "friends = [\"Bob\", \"Rolf\", \"Jen\"]\n",
    "\n",
    "print(\"Jen\" in friends) # verifica se a string Jen está entre os elementos da lista friends"
   ]
  },
  {
   "cell_type": "code",
   "execution_count": 12,
   "metadata": {},
   "outputs": [
    {
     "name": "stdout",
     "output_type": "stream",
     "text": [
      "False\n"
     ]
    }
   ],
   "source": [
    "movies_watched = {\"The Matrix\", \"Green Book\", \"Her\"}\n",
    "user_movie = input(\"Enter something you've watched recently: \")\n",
    "\n",
    "print(user_movie in  movies_watched) # caso o filme colocado esteja presente entre os encontrados no conjunto, printará true"
   ]
  },
  {
   "cell_type": "markdown",
   "metadata": {},
   "source": [
    "#### If e In em conjunto"
   ]
  },
  {
   "cell_type": "code",
   "execution_count": 13,
   "metadata": {},
   "outputs": [
    {
     "name": "stdout",
     "output_type": "stream",
     "text": [
      "I haven't watched Monty Python yet.\n"
     ]
    }
   ],
   "source": [
    "movies_watched = {\"The Matrix\", \"Green Book\", \"Her\"}\n",
    "user_movie = input(\"Enter something you've watched recently: \")\n",
    "\n",
    "if user_movie in movies_watched:\n",
    "    print(\"You've watched something I watched recently.\")\n",
    "else:\n",
    "    print(\"I haven't watched {} yet.\".format(user_movie))"
   ]
  },
  {
   "cell_type": "markdown",
   "metadata": {},
   "source": [
    "> abs() retorna o valor absoluto da operação"
   ]
  },
  {
   "cell_type": "code",
   "execution_count": 18,
   "metadata": {},
   "outputs": [
    {
     "name": "stdout",
     "output_type": "stream",
     "text": [
      "You were wrong by one!\n"
     ]
    }
   ],
   "source": [
    "our_number = 3\n",
    "play = input(\"Do you wanna play the game?(Y/n) \").lower()\n",
    "\n",
    "if play == \"y\":\n",
    "    number = int(input(\"Guess the number: \"))\n",
    "    if number == our_number:\n",
    "        print(\"Congrats! You've matched our number!\")\n",
    "    elif abs(our_number - number) == 1:\n",
    "    # elif our_number - number in (1, -1): # verifica se a subtração do nosso número pelo número inserido resulta em 1 ou -1\n",
    "        print(\"You were wrong by one!\")\n",
    "    else:\n",
    "        print(\"It isn't our number...\")\n",
    "elif play == \"n\":\n",
    "    print(\"Okay, then...\")\n",
    "else:\n",
    "    print(\"That is not an option!\")"
   ]
  },
  {
   "cell_type": "markdown",
   "metadata": {},
   "source": [
    "### Loops"
   ]
  },
  {
   "cell_type": "markdown",
   "metadata": {},
   "source": [
    "#### While"
   ]
  },
  {
   "cell_type": "code",
   "execution_count": null,
   "metadata": {},
   "outputs": [],
   "source": [
    "our_number = 3\n",
    "\n",
    "# while play != \"n\": # enquanto o input for diferente de \"n\", rodará as próximas linhas de código\n",
    "while True: # cria um loop infinito\n",
    "    play = input(\"Do you wanna play the game? (Y/n) \")\n",
    "\n",
    "    if play == \"n\":\n",
    "        break # sai do loop\n",
    "\n",
    "    number = int(input(\"Guess the number: \"))\n",
    "    if number == our_number:\n",
    "        print(\"Congrats! You've matched our number!\")\n",
    "    elif abs(our_number - number) == 1:\n",
    "    # elif our_number - number in (1, -1): # verifica se a subtração do nosso número pelo número inserido resulta em 1 ou -1\n",
    "        print(\"You were wrong by one!\")\n",
    "    else:\n",
    "        print(\"It isn't our number...\")\n",
    "\n",
    "    play = input(\"Do you wanna play again? (Y/n) \")"
   ]
  },
  {
   "cell_type": "markdown",
   "metadata": {},
   "source": [
    "#### For"
   ]
  },
  {
   "cell_type": "code",
   "execution_count": null,
   "metadata": {},
   "outputs": [],
   "source": [
    "friends = [\"Rolf\", \"Jen\", \"Bob\", \"Anne\"]\n",
    "\n",
    "for friend in friends: # friend recebe cada um dos valores armazenados na lista friends de cada vez\n",
    "    print(\"{} is my friend\".format(friend))\n",
    "\n",
    "for n in range(5):\n",
    "    print(n)"
   ]
  },
  {
   "cell_type": "markdown",
   "metadata": {},
   "source": [
    "> range(x) cria uma lista vazia de x valores"
   ]
  },
  {
   "cell_type": "code",
   "execution_count": 21,
   "metadata": {},
   "outputs": [
    {
     "name": "stdout",
     "output_type": "stream",
     "text": [
      "80.0\n"
     ]
    }
   ],
   "source": [
    "grades = [35, 67, 98, 100, 100]\n",
    "total = 0\n",
    "amount = len(grades)\n",
    "\n",
    "for grade in grades:\n",
    "    total += grade # x += 1 é igual a x = x + 1\n",
    "\n",
    "print(total/amount) # retorna a média das notas"
   ]
  },
  {
   "cell_type": "markdown",
   "metadata": {},
   "source": [
    "> len(x) retorna a quantidade de elementos contidos em x"
   ]
  },
  {
   "cell_type": "code",
   "execution_count": null,
   "metadata": {},
   "outputs": [],
   "source": [
    "grades = [35, 67, 98, 100, 100]\n",
    "total = sum(grades)\n",
    "amount = len(grades)\n",
    "\n",
    "print(total/amount) # retorna a média das notas"
   ]
  },
  {
   "cell_type": "markdown",
   "metadata": {},
   "source": [
    "> sum(x) retorna a soma dos elementos contidos em x"
   ]
  },
  {
   "cell_type": "markdown",
   "metadata": {},
   "source": [
    "### Compreensão de Listas"
   ]
  },
  {
   "cell_type": "markdown",
   "metadata": {},
   "source": [
    "Compreensões de listas dão a possibilidade da criação de novas listas a partir das já existentes"
   ]
  },
  {
   "cell_type": "code",
   "execution_count": null,
   "metadata": {},
   "outputs": [],
   "source": [
    "numbers = [1, 3, 5]\n",
    "doubled = []\n",
    "\n",
    "# em outras linguagens seria necessário criar algo assim para dobrar os números e coloca-los em uma nova lista:\n",
    "for num in numbers:\n",
    "    doubled.append(num*2)\n",
    "print(doubled)\n",
    "\n",
    "# em python:\n",
    "numbers = [2, 4, 6]\n",
    "doubled = [x*2 for x in numbers]\n",
    "print(doubled)"
   ]
  },
  {
   "cell_type": "markdown",
   "metadata": {},
   "source": [
    "> startswith(x) retorna os valores que iniciam em x "
   ]
  },
  {
   "cell_type": "code",
   "execution_count": 29,
   "metadata": {},
   "outputs": [
    {
     "name": "stdout",
     "output_type": "stream",
     "text": [
      "['Sam', 'Samantha', 'Saurabh']\n",
      "['Sam', 'Samantha', 'Saurabh']\n",
      "1690417731968   1690417848256\n"
     ]
    }
   ],
   "source": [
    "friends = [\"Rolf\", \"Sam\", \"Samantha\", \"Saurabh\", \"Jen\"]\n",
    "starts_s = []\n",
    "\n",
    "# sem list comprehension\n",
    "for friend in friends:\n",
    "    if friend.startswith(\"S\"):\n",
    "        starts_s.append(friend)\n",
    "print(starts_s)\n",
    "\n",
    "# com list comprehension\n",
    "friends = [\"Rolf\", \"Sam\", \"Samantha\", \"Saurabh\", \"Jen\"]\n",
    "starts_s = [friend for friend in friends if friend.startswith(\"S\")]\n",
    "print(starts_s)\n",
    "\n",
    "print(id(starts_s), \" \", id(friends))"
   ]
  },
  {
   "cell_type": "markdown",
   "metadata": {},
   "source": [
    "> id(x) retorna o id de x na memória"
   ]
  },
  {
   "cell_type": "markdown",
   "metadata": {},
   "source": [
    "### Dicionários (Dict)"
   ]
  },
  {
   "cell_type": "markdown",
   "metadata": {},
   "source": [
    "Dicionários em Python são outra forma de lidar com os dados como em listas e conjuntos\n",
    "\n",
    "- Associa chaves a valores e, dessa forma, faz capaz de, se souber a chave, é mais fácil de acessar o valor\n",
    "    - Similar a .json's"
   ]
  },
  {
   "cell_type": "code",
   "execution_count": 32,
   "metadata": {},
   "outputs": [
    {
     "name": "stdout",
     "output_type": "stream",
     "text": [
      "30\n",
      "{'Rolf': 33, 'Adam': 30, 'Anne': 27, 'Bob': 20}\n"
     ]
    }
   ],
   "source": [
    "friend_ages = {\"Rolf\": 24, \"Adam\": 30, \"Anne\": 27} # do lado esquerdo a chave, do direito o valor\n",
    "\n",
    "print(friend_ages[\"Adam\"])\n",
    "\n",
    "# para adicionar ou modificar um elemento no dicionário:\n",
    "friend_ages[\"Bob\"] = 20\n",
    "friend_ages[\"Rolf\"] = 33\n",
    "print(friend_ages)"
   ]
  },
  {
   "cell_type": "code",
   "execution_count": 21,
   "metadata": {},
   "outputs": [
    {
     "name": "stdout",
     "output_type": "stream",
     "text": [
      "24\n",
      "30\n",
      "27\n"
     ]
    }
   ],
   "source": [
    "friends = [\n",
    "    {\"name\": \"Rolf\", \"age\": 24},\n",
    "    {\"name\": \"Adam\", \"age\": 30},\n",
    "    {\"name\": \"Anne\", \"age\": 27}\n",
    "]\n",
    "\n",
    "i = 0\n",
    "for friend in friends:\n",
    "    print(friends[i][\"age\"]) # acessando a chave \"age\" do i elemento da lista \n",
    "    i += 1"
   ]
  },
  {
   "cell_type": "code",
   "execution_count": 14,
   "metadata": {},
   "outputs": [
    {
     "name": "stdout",
     "output_type": "stream",
     "text": [
      "Rolf: 96%\n",
      "Adam: 80%\n",
      "Anne: 100%\n",
      "\n",
      "Rolf: 96%\n",
      "Adam: 80%\n",
      "Anne: 100%\n"
     ]
    }
   ],
   "source": [
    "student_attendance = {\"Rolf\": 96, \"Adam\": 80, \"Anne\": 100}\n",
    "\n",
    "for student in student_attendance: # retorna as chaves de student_attendance\n",
    "    print(f\"{student}: {student_attendance[student]}%\") # printa as chaves e em seguida os valores contidos nelas\n",
    "\n",
    "print()\n",
    "# o for acima é igual ao for abaixo\n",
    "for student, attendance in student_attendance.items():\n",
    "    print(f\"{student}: {attendance}%\")"
   ]
  },
  {
   "cell_type": "markdown",
   "metadata": {},
   "source": [
    "> items() retorna os itens contidos no dicionário"
   ]
  },
  {
   "cell_type": "code",
   "execution_count": 44,
   "metadata": {},
   "outputs": [
    {
     "name": "stdout",
     "output_type": "stream",
     "text": [
      "Bob is not a student in this class.\n"
     ]
    }
   ],
   "source": [
    "student_attendance = {\"Rolf\": 96, \"Adam\": 80, \"Anne\": 100}\n",
    "\n",
    "if \"Bob\" in student_attendance:\n",
    "    print(f\"Bob: {student_attendance['Bob']}\")\n",
    "else:\n",
    "    print(\"Bob is not a student in this class.\")"
   ]
  },
  {
   "cell_type": "markdown",
   "metadata": {},
   "source": [
    "> in nesse sentido checa as chaves presentes em um dicionário, não os valores"
   ]
  },
  {
   "cell_type": "code",
   "execution_count": 46,
   "metadata": {},
   "outputs": [
    {
     "name": "stdout",
     "output_type": "stream",
     "text": [
      "92.0\n"
     ]
    }
   ],
   "source": [
    "student_attendance = {\"Rolf\": 96, \"Adam\": 80, \"Anne\": 100}\n",
    "\n",
    "attendance_values = student_attendance.values()\n",
    "print(sum(attendance_values)/len(attendance_values))"
   ]
  },
  {
   "cell_type": "markdown",
   "metadata": {},
   "source": [
    "para receber apenas os valores, utilizar .values()"
   ]
  },
  {
   "cell_type": "markdown",
   "metadata": {},
   "source": [
    "### Desestruturando"
   ]
  },
  {
   "cell_type": "markdown",
   "metadata": {},
   "source": [
    "Para criar tuplas não é necessário colocar os parênteses, apenas dentro de outras funções (listas, por exemplo), pois sem eles o Python pode entender que a tupla é outra coisa (como duas strings e etc)"
   ]
  },
  {
   "cell_type": "code",
   "execution_count": null,
   "metadata": {},
   "outputs": [],
   "source": [
    "x = 5, 11 # isso é uma tupla\n",
    "x, y = 5, 11 # isso faz de x = 5 e y = 11"
   ]
  },
  {
   "cell_type": "code",
   "execution_count": 49,
   "metadata": {},
   "outputs": [
    {
     "name": "stdout",
     "output_type": "stream",
     "text": [
      "[('Rolf', 96), ('Adam', 80), ('Anne', 100)]\n",
      "Rolf: 96\n",
      "Adam: 80\n",
      "Anne: 100\n"
     ]
    }
   ],
   "source": [
    "student_attendance = {\"Rolf\": 96, \"Adam\": 80, \"Anne\": 100}\n",
    "\n",
    "print(list(student_attendance.items())) # isso retorna uma lista de tuplas\n",
    "\n",
    "for student, attendance in student_attendance.items():\n",
    "    print(f\"{student}: {attendance}\")"
   ]
  },
  {
   "cell_type": "code",
   "execution_count": 50,
   "metadata": {},
   "outputs": [
    {
     "name": "stdout",
     "output_type": "stream",
     "text": [
      "Name: Bob, Age: 42, Profession: Mechanic\n",
      "Name: James, Age: 24, Profession: Artist\n",
      "Name: Harry, Age: 32, Profession: Lecturer\n"
     ]
    }
   ],
   "source": [
    "people = [(\"Bob\", 42, \"Mechanic\"), (\"James\", 24, \"Artist\"), (\"Harry\", 32, \"Lecturer\")] # lista com três tuplas\n",
    "\n",
    "\n",
    "for name, age, profession in people:\n",
    "    print(\"Name: {}, Age: {}, Profession: {}\".format(name, age, profession))"
   ]
  },
  {
   "cell_type": "markdown",
   "metadata": {},
   "source": [
    "> se uma das tuplas não tiver a quantidade de valores correta, dará erro"
   ]
  },
  {
   "cell_type": "code",
   "execution_count": 53,
   "metadata": {},
   "outputs": [
    {
     "name": "stdout",
     "output_type": "stream",
     "text": [
      "Bob is a Mechanic\n"
     ]
    }
   ],
   "source": [
    "person = (\"Bob\", 42, \"Mechanic\")\n",
    "\n",
    "name, _, profession = person\n",
    "\n",
    "print(name, \"is a\", profession)"
   ]
  },
  {
   "cell_type": "markdown",
   "metadata": {},
   "source": [
    "> variáveis podem ser iniciadas em _ e normalmente são usadas assim quando essas devem ser ignoradas"
   ]
  },
  {
   "cell_type": "code",
   "execution_count": 54,
   "metadata": {},
   "outputs": [
    {
     "name": "stdout",
     "output_type": "stream",
     "text": [
      "1\n",
      "[2, 3, 4, 5]\n"
     ]
    }
   ],
   "source": [
    "head, *tail =[1, 2, 3, 4, 5]\n",
    "print(head)\n",
    "print(tail)"
   ]
  },
  {
   "cell_type": "code",
   "execution_count": 55,
   "metadata": {},
   "outputs": [
    {
     "name": "stdout",
     "output_type": "stream",
     "text": [
      "[1, 2, 3, 4]\n",
      "5\n"
     ]
    }
   ],
   "source": [
    "*head, tail =[1, 2, 3, 4, 5]\n",
    "print(head)\n",
    "print(tail)"
   ]
  },
  {
   "cell_type": "markdown",
   "metadata": {},
   "source": [
    "> iniciar uma variável em * coleta os valores"
   ]
  },
  {
   "cell_type": "markdown",
   "metadata": {},
   "source": [
    "### Funções"
   ]
  },
  {
   "cell_type": "markdown",
   "metadata": {},
   "source": [
    "#### Padrão"
   ]
  },
  {
   "cell_type": "code",
   "execution_count": 57,
   "metadata": {},
   "outputs": [
    {
     "name": "stdout",
     "output_type": "stream",
     "text": [
      "Hello!\n"
     ]
    }
   ],
   "source": [
    "def hello(): # define o código\n",
    "    print(\"Hello!\")\n",
    "\n",
    "hello() # roda o código"
   ]
  },
  {
   "cell_type": "code",
   "execution_count": 58,
   "metadata": {},
   "outputs": [
    {
     "name": "stdout",
     "output_type": "stream",
     "text": [
      "Your age in seconds is 630720000.\n"
     ]
    }
   ],
   "source": [
    "def user_age_in_seconds():\n",
    "    user_age = int(input(\"Enter your age: \"))\n",
    "    age_seconds = user_age*365*24*60*60\n",
    "    print(f\"Your age in seconds is {age_seconds}.\")\n",
    "\n",
    "user_age_in_seconds()"
   ]
  },
  {
   "cell_type": "markdown",
   "metadata": {},
   "source": [
    "> não reutilizar o nome de funções, principalmente de funções já existentes no Python (mesmo que isso seja possível)"
   ]
  },
  {
   "cell_type": "code",
   "execution_count": 63,
   "metadata": {},
   "outputs": [
    {
     "name": "stdout",
     "output_type": "stream",
     "text": [
      "['Rolf', 'Bob', 'Adam']\n"
     ]
    }
   ],
   "source": [
    "friends = [\"Rolf\", \"Bob\"]\n",
    "\n",
    "def add_friend():\n",
    "    friend_name = input(\"Enter your friend name: \")\n",
    "    f = friends + [friend_name]\n",
    "    print(f)\n",
    "\n",
    "add_friend()"
   ]
  },
  {
   "cell_type": "markdown",
   "metadata": {},
   "source": [
    "> não é possível cahamar funções antes de defini-las"
   ]
  },
  {
   "cell_type": "code",
   "execution_count": 65,
   "metadata": {},
   "outputs": [
    {
     "name": "stdout",
     "output_type": "stream",
     "text": [
      "['Rolf']\n"
     ]
    }
   ],
   "source": [
    "friends = []\n",
    "\n",
    "def add_friend():\n",
    "    friends.append(\"Rolf\")\n",
    "\n",
    "add_friend()\n",
    "\n",
    "print(friends)"
   ]
  },
  {
   "cell_type": "markdown",
   "metadata": {},
   "source": [
    "#### Argumentos e Parâmetros em Funções"
   ]
  },
  {
   "cell_type": "code",
   "execution_count": null,
   "metadata": {},
   "outputs": [],
   "source": [
    "def add(x, y): # definindo uma função com parâmetros x e y\n",
    "    pass\n",
    "\n",
    "add(5, 3) # chama a função com os argumentos 5 e 3"
   ]
  },
  {
   "cell_type": "markdown",
   "metadata": {},
   "source": [
    "> só é possível chamar uma função com argumentos se esta foi definida com parâmetros"
   ]
  },
  {
   "cell_type": "code",
   "execution_count": 66,
   "metadata": {},
   "outputs": [
    {
     "ename": "TypeError",
     "evalue": "say_hello() takes 0 positional arguments but 1 was given",
     "output_type": "error",
     "traceback": [
      "\u001b[1;31m---------------------------------------------------------------------------\u001b[0m",
      "\u001b[1;31mTypeError\u001b[0m                                 Traceback (most recent call last)",
      "Cell \u001b[1;32mIn [66], line 4\u001b[0m\n\u001b[0;32m      1\u001b[0m \u001b[39mdef\u001b[39;00m \u001b[39msay_hello\u001b[39m():\n\u001b[0;32m      2\u001b[0m     \u001b[39mprint\u001b[39m(\u001b[39m\"\u001b[39m\u001b[39mHello!\u001b[39m\u001b[39m\"\u001b[39m)\n\u001b[1;32m----> 4\u001b[0m say_hello(\u001b[39m\"\u001b[39;49m\u001b[39mBob\u001b[39;49m\u001b[39m\"\u001b[39;49m)\n",
      "\u001b[1;31mTypeError\u001b[0m: say_hello() takes 0 positional arguments but 1 was given"
     ]
    }
   ],
   "source": [
    "def say_hello():\n",
    "    print(\"Hello!\")\n",
    "\n",
    "say_hello(\"Bob\")"
   ]
  },
  {
   "cell_type": "markdown",
   "metadata": {},
   "source": [
    "> bem como não é possível chamar uma função que possui parâmetros sem um argumento"
   ]
  },
  {
   "cell_type": "code",
   "execution_count": 67,
   "metadata": {},
   "outputs": [
    {
     "ename": "TypeError",
     "evalue": "say_hello() missing 1 required positional argument: 'name'",
     "output_type": "error",
     "traceback": [
      "\u001b[1;31m---------------------------------------------------------------------------\u001b[0m",
      "\u001b[1;31mTypeError\u001b[0m                                 Traceback (most recent call last)",
      "Cell \u001b[1;32mIn [67], line 4\u001b[0m\n\u001b[0;32m      1\u001b[0m \u001b[39mdef\u001b[39;00m \u001b[39msay_hello\u001b[39m(name):\n\u001b[0;32m      2\u001b[0m     \u001b[39mprint\u001b[39m(\u001b[39mf\u001b[39m\u001b[39m\"\u001b[39m\u001b[39mHello, \u001b[39m\u001b[39m{\u001b[39;00mname\u001b[39m}\u001b[39;00m\u001b[39m\"\u001b[39m)\n\u001b[1;32m----> 4\u001b[0m say_hello()\n",
      "\u001b[1;31mTypeError\u001b[0m: say_hello() missing 1 required positional argument: 'name'"
     ]
    }
   ],
   "source": [
    "def say_hello(name):\n",
    "    print(f\"Hello, {name}\")\n",
    "\n",
    "say_hello()"
   ]
  },
  {
   "cell_type": "code",
   "execution_count": 68,
   "metadata": {},
   "outputs": [
    {
     "name": "stdout",
     "output_type": "stream",
     "text": [
      "Hello, Bob\n"
     ]
    }
   ],
   "source": [
    "def say_hello(name):\n",
    "    print(f\"Hello, {name}\")\n",
    "\n",
    "say_hello(\"Bob\")"
   ]
  },
  {
   "cell_type": "markdown",
   "metadata": {},
   "source": [
    "> uma função pode ter vários parâmetros e sua chamada deverá ser feita com a mesma quantidade de argumentos"
   ]
  },
  {
   "cell_type": "code",
   "execution_count": 70,
   "metadata": {},
   "outputs": [
    {
     "name": "stdout",
     "output_type": "stream",
     "text": [
      "Hello, Bob Smith\n",
      "Hello, Bob Smith\n"
     ]
    }
   ],
   "source": [
    "def say_hello(name, surname):\n",
    "    print(f\"Hello, {name} {surname}\")\n",
    "\n",
    "say_hello(\"Bob\", \"Smith\") # nesse contexto o Python concebe name = \"Bob\" e surname = \"Smith\" por causa da posição dos parâmetros/argumentos\n",
    "\n",
    "say_hello(surname=\"Smith\", name=\"Bob\") # nesse contexto, cada parâmetro foi instanciado especificamente, então a posição em que eles foram definidos na função não importa"
   ]
  },
  {
   "cell_type": "markdown",
   "metadata": {},
   "source": [
    "> usar o nome dos parâmetros na chamada de funções é recomendado"
   ]
  },
  {
   "cell_type": "code",
   "execution_count": 73,
   "metadata": {},
   "outputs": [
    {
     "name": "stdout",
     "output_type": "stream",
     "text": [
      "5.0\n"
     ]
    }
   ],
   "source": [
    "def divide(dividend, divisor):\n",
    "    if divisor != 0:\n",
    "        print(dividend/divisor)\n",
    "    else:\n",
    "        print(\"You fool!\")\n",
    "\n",
    "divide(dividend=15, divisor=3)"
   ]
  },
  {
   "cell_type": "markdown",
   "metadata": {},
   "source": [
    "#####  Valores padrão de parâmetros"
   ]
  },
  {
   "cell_type": "code",
   "execution_count": 77,
   "metadata": {},
   "outputs": [
    {
     "name": "stdout",
     "output_type": "stream",
     "text": [
      "9\n"
     ]
    }
   ],
   "source": [
    "def add(x, y=8): # definindo o valor de um parâmetro aqui faz sua chamada por argumento opcional\n",
    "    print(x + y)\n",
    "\n",
    "add(5, 4) # sem o argumento, o valor padrão definido será usado"
   ]
  },
  {
   "cell_type": "markdown",
   "metadata": {},
   "source": [
    "#### Funções retornando valores"
   ]
  },
  {
   "cell_type": "code",
   "execution_count": 78,
   "metadata": {},
   "outputs": [
    {
     "name": "stdout",
     "output_type": "stream",
     "text": [
      "13\n",
      "13\n",
      "None\n"
     ]
    }
   ],
   "source": [
    "def add(x, y):\n",
    "    print(x + y)\n",
    "\n",
    "add(5, 8)\n",
    "result = add(5, 8)\n",
    "print(result)"
   ]
  },
  {
   "cell_type": "markdown",
   "metadata": {},
   "source": [
    "> None significa que o valor não existe"
   ]
  },
  {
   "cell_type": "code",
   "execution_count": 83,
   "metadata": {},
   "outputs": [
    {
     "name": "stdout",
     "output_type": "stream",
     "text": [
      "13\n"
     ]
    }
   ],
   "source": [
    "def add(x, y):\n",
    "    return x + y\n",
    "\n",
    "add(5, 8)\n",
    "result = add(5, 8)\n",
    "print(result)"
   ]
  },
  {
   "cell_type": "markdown",
   "metadata": {},
   "source": [
    "> não é necessário printar uma função que já printa algo"
   ]
  },
  {
   "cell_type": "code",
   "execution_count": 86,
   "metadata": {},
   "outputs": [
    {
     "name": "stdout",
     "output_type": "stream",
     "text": [
      "13\n",
      "13\n"
     ]
    }
   ],
   "source": [
    "def add(x, y):\n",
    "    return x + y\n",
    "    print(x + y) # linhas colocadas após o return não são rodadas pois ele finaliza a função\n",
    "\n",
    "result = add(5, 8)\n",
    "print(result)"
   ]
  },
  {
   "cell_type": "code",
   "execution_count": 88,
   "metadata": {},
   "outputs": [
    {
     "name": "stdout",
     "output_type": "stream",
     "text": [
      "You fool!\n"
     ]
    }
   ],
   "source": [
    "def divide(dividend, divisor):\n",
    "    if divisor != 0:\n",
    "        return dividend / divisor\n",
    "    else:\n",
    "        return \"You fool!\"\n",
    "\n",
    "result = divide(dividend=15, divisor=0)\n",
    "print(result)"
   ]
  },
  {
   "cell_type": "markdown",
   "metadata": {},
   "source": [
    "> não é recomendado retornar tipos diferentes de variáveis em uma mesma função"
   ]
  },
  {
   "cell_type": "markdown",
   "metadata": {},
   "source": [
    "#### Funções sem nome (lambda)"
   ]
  },
  {
   "cell_type": "code",
   "execution_count": 89,
   "metadata": {},
   "outputs": [
    {
     "name": "stdout",
     "output_type": "stream",
     "text": [
      "12\n"
     ]
    }
   ],
   "source": [
    "def add(x, y):\n",
    "    return x + y\n",
    "\n",
    "print(add(5, 7))\n",
    "\n",
    "# a função acima é a mesma que a de baixo\n",
    "\n",
    "lambda x, y: x + y"
   ]
  },
  {
   "cell_type": "markdown",
   "metadata": {},
   "source": [
    "A estrutura de uma função lambda:\n",
    "\n",
    "```\n",
    "lambda parametros: retorno(sem a palavra return)\n",
    "```"
   ]
  },
  {
   "cell_type": "code",
   "execution_count": 91,
   "metadata": {},
   "outputs": [
    {
     "name": "stdout",
     "output_type": "stream",
     "text": [
      "5\n"
     ]
    }
   ],
   "source": [
    "add = lambda x, y: x + y # dando nome à função lambda ao armazená-la em uma variável\n",
    "\n",
    "print(add(3, 2))"
   ]
  },
  {
   "cell_type": "markdown",
   "metadata": {},
   "source": [
    "> sem dar um nome à função lambda, é necessário fazer sua chamada na mesma linha em que foi definida"
   ]
  },
  {
   "cell_type": "code",
   "execution_count": 93,
   "metadata": {},
   "outputs": [
    {
     "name": "stdout",
     "output_type": "stream",
     "text": [
      "11\n"
     ]
    }
   ],
   "source": [
    "print((lambda x, y: x + y)(5, 6))"
   ]
  },
  {
   "cell_type": "markdown",
   "metadata": {},
   "source": [
    "##### Função Lambda Funcional"
   ]
  },
  {
   "cell_type": "code",
   "execution_count": 4,
   "metadata": {},
   "outputs": [
    {
     "name": "stdout",
     "output_type": "stream",
     "text": [
      "[2, 6, 10]\n",
      "[2, 6, 10]\n"
     ]
    }
   ],
   "source": [
    "def double(x):\n",
    "    return x * 2\n",
    "\n",
    "sequence = [1, 3, 5]\n",
    "doubled = [(lambda x: x * 2)(x) for x in sequence] # que é o mesmo que doubled = [double(x) for x in sequence]\n",
    "\n",
    "print(doubled)\n",
    "\n",
    "doubled = list(map(lambda x: x * 2, sequence)) # a função map passa por cada valor em uma lista/tupla/conjunto e aplica uma função em cada um, retornando o resultado ao final\n",
    "\n",
    "print(doubled)"
   ]
  },
  {
   "cell_type": "markdown",
   "metadata": {},
   "source": [
    "> é necessário transformar o map em lista, sem isso a função retorna apenas um objeto dela mesma"
   ]
  },
  {
   "cell_type": "markdown",
   "metadata": {},
   "source": [
    "### Compreensão de Dict"
   ]
  },
  {
   "cell_type": "markdown",
   "metadata": {},
   "source": [
    "Parecida com a compreensão de listas, mas retorna um dicionário ao seu final, logo é necessário usar chaves ao invés de apenas valores"
   ]
  },
  {
   "cell_type": "code",
   "execution_count": 8,
   "metadata": {},
   "outputs": [
    {
     "name": "stdout",
     "output_type": "stream",
     "text": [
      "(0, 'Bob', 'password')\n",
      "{'Bob': (0, 'Bob', 'password'), 'Rolf': (1, 'Rolf', 'bob123'), 'Jose': (2, 'Jose', 'long4assword'), 'username': (3, 'username', '1234')}\n"
     ]
    }
   ],
   "source": [
    "users = [\n",
    "    (0, \"Bob\", \"password\"),\n",
    "    (1, \"Rolf\", \"bob123\"),\n",
    "    (2, \"Jose\", \"long4assword\"),\n",
    "    (3, \"username\", \"1234\")\n",
    "]\n",
    "\n",
    "username_mapping = {user[1]: user for user in users} # retorna um dict cujas chaves são os nomes dos usuários e os valores as tuplas completas contidas na lista\n",
    "\n",
    "# sem o uso do mapping, seria necessário usar o seguinte:\n",
    "\n",
    "for user in users:\n",
    "    if user[1] == \"Bob\":\n",
    "        print(user)\n",
    "\n",
    "print(username_mapping)"
   ]
  },
  {
   "cell_type": "code",
   "execution_count": 13,
   "metadata": {},
   "outputs": [
    {
     "name": "stdout",
     "output_type": "stream",
     "text": [
      "Your details are correct\n"
     ]
    }
   ],
   "source": [
    "users = [\n",
    "    (0, \"Bob\", \"password\"),\n",
    "    (1, \"Rolf\", \"bob123\"),\n",
    "    (2, \"Jose\", \"long4assword\"),\n",
    "    (3, \"username\", \"1234\")\n",
    "]\n",
    "\n",
    "username_mapping = {user[1]: user for user in users}\n",
    "\n",
    "username_input = input(\"Enter your username: \")\n",
    "password_input = input(\"Enter your password: \")\n",
    "\n",
    "_, username, password = username_mapping[username_input] # armazena cada valor das tuplas em uma variável\n",
    "\n",
    "if password_input == password:\n",
    "    print(\"Your details are correct\")\n",
    "else:\n",
    "    print(\"Your details are incorrect\")"
   ]
  },
  {
   "cell_type": "markdown",
   "metadata": {},
   "source": [
    "### Desempacotando argumentos"
   ]
  },
  {
   "cell_type": "code",
   "execution_count": 30,
   "metadata": {},
   "outputs": [
    {
     "data": {
      "text/plain": [
       "10"
      ]
     },
     "execution_count": 30,
     "metadata": {},
     "output_type": "execute_result"
    }
   ],
   "source": [
    "def multiply(*args): # recebe qualquer quantidade de argumentos, colocando-os em uma tupla\n",
    "    total = 1\n",
    "    for arg in args:\n",
    "        total = total * arg\n",
    "\n",
    "    return total\n",
    "\n",
    "multiply(10)"
   ]
  },
  {
   "cell_type": "code",
   "execution_count": 40,
   "metadata": {},
   "outputs": [
    {
     "name": "stdout",
     "output_type": "stream",
     "text": [
      "13\n"
     ]
    }
   ],
   "source": [
    "def add(x, y):\n",
    "    return x + y\n",
    "\n",
    "nums = [8, 5]\n",
    "\n",
    "print(add(*nums)) # separa a variável nums (que é uma lista) nos dois parâmetros que a função add() necessita para ser chamada"
   ]
  },
  {
   "cell_type": "markdown",
   "metadata": {},
   "source": [
    "> sem o *, nums seria armazenada apenas em x, e y ficaria sem um valor, resultando em um erro"
   ]
  },
  {
   "cell_type": "code",
   "execution_count": 39,
   "metadata": {},
   "outputs": [
    {
     "ename": "TypeError",
     "evalue": "add() missing 1 required positional argument: 'y'",
     "output_type": "error",
     "traceback": [
      "\u001b[1;31m---------------------------------------------------------------------------\u001b[0m",
      "\u001b[1;31mTypeError\u001b[0m                                 Traceback (most recent call last)",
      "Cell \u001b[1;32mIn [39], line 6\u001b[0m\n\u001b[0;32m      2\u001b[0m     \u001b[39mreturn\u001b[39;00m x \u001b[39m+\u001b[39m y\n\u001b[0;32m      4\u001b[0m nums \u001b[39m=\u001b[39m [\u001b[39m8\u001b[39m, \u001b[39m5\u001b[39m]\n\u001b[1;32m----> 6\u001b[0m \u001b[39mprint\u001b[39m(add(nums))\n",
      "\u001b[1;31mTypeError\u001b[0m: add() missing 1 required positional argument: 'y'"
     ]
    }
   ],
   "source": [
    "def add(x, y):\n",
    "    return x + y\n",
    "\n",
    "nums = [8, 5]\n",
    "\n",
    "print(add(nums))"
   ]
  },
  {
   "cell_type": "markdown",
   "metadata": {},
   "source": [
    "> a lista armazenada na variável precisa ter a mesma quantidade de valores que a quantidade de parâmetros na função, ou também resultará em erro"
   ]
  },
  {
   "cell_type": "code",
   "execution_count": 38,
   "metadata": {},
   "outputs": [
    {
     "ename": "TypeError",
     "evalue": "add() takes 2 positional arguments but 3 were given",
     "output_type": "error",
     "traceback": [
      "\u001b[1;31m---------------------------------------------------------------------------\u001b[0m",
      "\u001b[1;31mTypeError\u001b[0m                                 Traceback (most recent call last)",
      "Cell \u001b[1;32mIn [38], line 6\u001b[0m\n\u001b[0;32m      2\u001b[0m     \u001b[39mreturn\u001b[39;00m x \u001b[39m+\u001b[39m y\n\u001b[0;32m      4\u001b[0m nums \u001b[39m=\u001b[39m [\u001b[39m8\u001b[39m, \u001b[39m5\u001b[39m, \u001b[39m10\u001b[39m]\n\u001b[1;32m----> 6\u001b[0m \u001b[39mprint\u001b[39m(add(\u001b[39m*\u001b[39;49mnums))\n",
      "\u001b[1;31mTypeError\u001b[0m: add() takes 2 positional arguments but 3 were given"
     ]
    }
   ],
   "source": [
    "def add(x, y):\n",
    "    return x + y\n",
    "\n",
    "nums = [8, 5, 10]\n",
    "\n",
    "print(add(*nums))"
   ]
  },
  {
   "cell_type": "markdown",
   "metadata": {},
   "source": [
    "> isso também funciona com dicionários e atributos nomeados"
   ]
  },
  {
   "cell_type": "code",
   "execution_count": 42,
   "metadata": {},
   "outputs": [
    {
     "name": "stdout",
     "output_type": "stream",
     "text": [
      "13\n"
     ]
    }
   ],
   "source": [
    "def add(x, y):\n",
    "    return x + y\n",
    "\n",
    "nums = {\"x\": 10, \"y\": 3}\n",
    "\n",
    "print(add(x=nums[\"x\"], y=nums[\"y\"]))"
   ]
  },
  {
   "cell_type": "markdown",
   "metadata": {},
   "source": [
    "> percebe-se que o nome do parâmetro é o mesmo da chave presente no dicionário, por isso é possível fazer o seguinte:"
   ]
  },
  {
   "cell_type": "code",
   "execution_count": 43,
   "metadata": {},
   "outputs": [
    {
     "name": "stdout",
     "output_type": "stream",
     "text": [
      "13\n"
     ]
    }
   ],
   "source": [
    "def add(x, y):\n",
    "    return x + y\n",
    "\n",
    "nums = {\"x\": 10, \"y\": 3}\n",
    "\n",
    "print(add(**nums)) # separa a variável nums (que é um dicionário), usando a chave como o nome do argumento (x) e seu valor como o dado do argumento em si"
   ]
  },
  {
   "cell_type": "markdown",
   "metadata": {},
   "source": [
    "> um parâmetro com número indefinido de argumentos faz com que o parâmetro que for definido em seguida DEVA ser nomeado"
   ]
  },
  {
   "cell_type": "code",
   "execution_count": 48,
   "metadata": {},
   "outputs": [
    {
     "name": "stdout",
     "output_type": "stream",
     "text": [
      "126\n"
     ]
    }
   ],
   "source": [
    "def multiply(*args):\n",
    "    total = 1\n",
    "    for arg in args:\n",
    "        total = total * arg\n",
    "\n",
    "    return total\n",
    "\n",
    "def apply(*args, operator):\n",
    "    if operator == \"*\":\n",
    "        return multiply(*args)\n",
    "    elif operator == \"+\":\n",
    "        return sum(args)\n",
    "    else:\n",
    "        return \"No valid operator provided to apply().\"\n",
    "\n",
    "print(apply(1, 3, 6, 7, operator=\"*\"))"
   ]
  },
  {
   "cell_type": "markdown",
   "metadata": {},
   "source": [
    "- para somar é simples receber uma tupla dos argumentos que foram colocados quando a função for chamados\n",
    "- já para multiplicar, essa tupla deve ser separada em argumentos para a função multiply() poder recebe-los e enfim multiplica-los\n",
    "    - sem isso, a função multiply() recebe a tupla inteira como argumento e, ao invés de multiplicar seus valores, a multiplica por 1 (já que a variável total foi inicializada como 1), finalizando o loop precocemente e retornando a tupla como resultado\n",
    "> para evitar isso, basta colocar um * no argumento da chamada de multiply(), assim a tupla será separada em outras tuplas e os valores poderão ser multiplicados"
   ]
  },
  {
   "cell_type": "markdown",
   "metadata": {},
   "source": [
    "#### Desempacotando argumentos de palavras-chave"
   ]
  },
  {
   "cell_type": "code",
   "execution_count": 50,
   "metadata": {},
   "outputs": [
    {
     "name": "stdout",
     "output_type": "stream",
     "text": [
      "{'name': 'Bob', 'age': 15, 'grade': 9}\n"
     ]
    }
   ],
   "source": [
    "def named(**kwargs): # recebendo argumentos nomeados, transforma seus nomes em chaves de um dict e os argumentos em seus valores\n",
    "    print(kwargs)\n",
    "\n",
    "named(name=\"Bob\", age=15, grade=9)"
   ]
  },
  {
   "cell_type": "code",
   "execution_count": 53,
   "metadata": {},
   "outputs": [
    {
     "name": "stdout",
     "output_type": "stream",
     "text": [
      "Bob 24\n"
     ]
    }
   ],
   "source": [
    "def named(name, age):\n",
    "    print(name, age)\n",
    "\n",
    "details = {\"name\": \"Bob\", \"age\": 24}\n",
    "\n",
    "named(**details)"
   ]
  },
  {
   "cell_type": "code",
   "execution_count": 58,
   "metadata": {},
   "outputs": [
    {
     "name": "stdout",
     "output_type": "stream",
     "text": [
      "{'name': 'Bob', 'age': 25}\n",
      "name: Bob\n",
      "age: 25\n"
     ]
    }
   ],
   "source": [
    "def named(**kwargs): # recebe os argumentos na chamada como um dicionário em que as chaves são os nomes e os dados são os valores\n",
    "    print(kwargs)\n",
    "\n",
    "def print_nicely(**kwargs):\n",
    "    named(**kwargs)\n",
    "    for arg, value, in kwargs.items(): # divide as chaves e as coloca na variável arg para cada uma delas, e faz o mesmo para os valores, armazenando-os na variável value \n",
    "        print(f\"{arg}: {value}\") # com o dict dividido, é possível printar as variáveis separadas\n",
    "\n",
    "print_nicely(name=\"Bob\", age=25)"
   ]
  },
  {
   "cell_type": "code",
   "execution_count": 59,
   "metadata": {},
   "outputs": [
    {
     "name": "stdout",
     "output_type": "stream",
     "text": [
      "(1, 3, 5)\n",
      "{'name': 'Bob', 'age': 25}\n"
     ]
    }
   ],
   "source": [
    "def both(*args, **kwargs):\n",
    "    print(args)\n",
    "    print(kwargs)\n",
    "\n",
    "both(1, 3, 5, name=\"Bob\", age=25)"
   ]
  },
  {
   "cell_type": "code",
   "execution_count": null,
   "metadata": {},
   "outputs": [],
   "source": [
    "def myfunction(**kwargs):\n",
    "    print(kwargs)\n",
    "\n",
    "myfunction(**\"Bob\") # erro\n",
    "myfunction(**None) # erro"
   ]
  },
  {
   "cell_type": "markdown",
   "metadata": {},
   "source": [
    "> chamar uma função com **kwargs sem argumentos nomeados não retorna um dicionário, portanto resulta em erro"
   ]
  },
  {
   "cell_type": "markdown",
   "metadata": {},
   "source": [
    "### Programação Orientada a Objetos em Python"
   ]
  },
  {
   "cell_type": "code",
   "execution_count": 60,
   "metadata": {},
   "outputs": [
    {
     "name": "stdout",
     "output_type": "stream",
     "text": [
      "88.0\n"
     ]
    }
   ],
   "source": [
    "student = {\"name\": \"Rolf\", \"grades\": (89, 90, 93, 78, 90)}\n",
    "\n",
    "def average(sequence):\n",
    "    return sum(sequence)/len(sequence)\n",
    "\n",
    "print(average(student[\"grades\"]))"
   ]
  },
  {
   "cell_type": "markdown",
   "metadata": {},
   "source": [
    "É possível resolver a abordagem acima com POO"
   ]
  },
  {
   "cell_type": "code",
   "execution_count": 64,
   "metadata": {},
   "outputs": [
    {
     "name": "stdout",
     "output_type": "stream",
     "text": [
      "Rolf\n",
      "88.0\n",
      "88.0\n"
     ]
    }
   ],
   "source": [
    "class Student: # classe\n",
    "    def __init__(self): # método com parâmetro self\n",
    "        self.name = \"Rolf\" # propriedade do método\n",
    "        self.grades = (89, 90, 93, 78, 90)\n",
    "\n",
    "    def average_grade(self):\n",
    "        return sum(self.grades) / len(self.grades)\n",
    "\n",
    "student = Student() # instancia a classe criando um objeto dela\n",
    "print(student.name) # chama a propriedade do método\n",
    "print(Student.average_grade(student)) # chama a classe Student com o método average passando o parâmretro student que é um objeto que recebeu anteriormente os valores presentes na classe Student()\n",
    "print(student.average_grade()) # faz a mesma coisa que a linha acima mas chama o método a partir do objeto de Student() que foi instanciado antes"
   ]
  },
  {
   "cell_type": "code",
   "execution_count": 68,
   "metadata": {},
   "outputs": [
    {
     "name": "stdout",
     "output_type": "stream",
     "text": [
      "Bob\n",
      "92.2\n"
     ]
    }
   ],
   "source": [
    "class Student:\n",
    "    def __init__(self, name, grades): # é possível colocar mais de um parâmetro em um método de uma classe\n",
    "        self.name = name # a propriedade self.name agora recebe o valor que for atribuido ao parâmetro quando a classe for instanciada\n",
    "        self.grades = grades # bem como a propriedade self.grades recebe a tupla definida quando o argumento grades for definido na instância da classe\n",
    "\n",
    "    def average_grade(self):\n",
    "        return sum(self.grades) / len(self.grades)\n",
    "\n",
    "student = Student(\"Bob\", (110, 90, 93, 78, 90)) # o parâmetro self do método não precisa ser chamado com um argumento, os parâmetros name e grades sim\n",
    "print(student.name)\n",
    "print(student.average_grade())"
   ]
  },
  {
   "cell_type": "markdown",
   "metadata": {},
   "source": [
    "> Também é possível criar mais de uma instância de uma classe"
   ]
  },
  {
   "cell_type": "code",
   "execution_count": 70,
   "metadata": {},
   "outputs": [
    {
     "name": "stdout",
     "output_type": "stream",
     "text": [
      "Bob\n",
      "92.2\n",
      "\n",
      "Rolf\n",
      "88.2\n"
     ]
    }
   ],
   "source": [
    "class Student:\n",
    "    def __init__(self, name, grades):\n",
    "        self.name = name # equivalente a this.name = name em Java\n",
    "        self.grades = grades\n",
    "\n",
    "    def average_grade(self):\n",
    "        return sum(self.grades) / len(self.grades)\n",
    "\n",
    "student = Student(\"Bob\", (110, 90, 93, 78, 90))\n",
    "student2 = Student(\"Rolf\", (90, 90, 93, 78, 90))\n",
    "\n",
    "print(student.name)\n",
    "print(student.average_grade())\n",
    "print()\n",
    "print(student2.name)\n",
    "print(student2.average_grade())"
   ]
  },
  {
   "cell_type": "markdown",
   "metadata": {},
   "source": [
    "#### Métodos Mágicos: __ str __ e __  repr __"
   ]
  },
  {
   "cell_type": "markdown",
   "metadata": {},
   "source": [
    "Métodos com nomes entre underlines (_) são chamados Métodos Mágicos ou Métodos Especiais\n",
    "- O Python por si só já os chama em determinadas situações"
   ]
  },
  {
   "cell_type": "code",
   "execution_count": 73,
   "metadata": {},
   "outputs": [
    {
     "name": "stdout",
     "output_type": "stream",
     "text": [
      "<__main__.Person object at 0x000002104CA79E90>\n"
     ]
    }
   ],
   "source": [
    "class Person:\n",
    "    def __init__(self, name, age):\n",
    "        self.name = name\n",
    "        self.age = age\n",
    "\n",
    "bob = Person(\"Bob\", 35)\n",
    "print(bob)"
   ]
  },
  {
   "cell_type": "markdown",
   "metadata": {},
   "source": [
    "> ao tentar printar bob, um objeto que instancia a classe Person, a saída mostra uma string do que representa o objeto bob"
   ]
  },
  {
   "cell_type": "code",
   "execution_count": 76,
   "metadata": {},
   "outputs": [
    {
     "name": "stdout",
     "output_type": "stream",
     "text": [
      "Bob, 35 years old.\n"
     ]
    }
   ],
   "source": [
    "class Person:\n",
    "    def __init__(self, name, age):\n",
    "        self.name = name\n",
    "        self.age = age\n",
    "\n",
    "    def __str__(self): # usada para printar strings fáceis de ler por usuários\n",
    "            return \"{}, {} years old.\".format(self.name, self.age)\n",
    "\n",
    "bob = Person(\"Bob\", 35)\n",
    "print(bob)"
   ]
  },
  {
   "cell_type": "markdown",
   "metadata": {},
   "source": [
    "> o método __ str __() transforma o objeto instanciado em uma string pré determinada dentro dele"
   ]
  },
  {
   "cell_type": "code",
   "execution_count": 79,
   "metadata": {},
   "outputs": [
    {
     "name": "stdout",
     "output_type": "stream",
     "text": [
      "<Person('Bob'), 35>\n"
     ]
    }
   ],
   "source": [
    "class Person:\n",
    "    def __init__(self, name, age):\n",
    "        self.name = name\n",
    "        self.age = age\n",
    "\n",
    "    # def __str__(self):\n",
    "       # return \"{}, {} years old.\".format(self.name, self.age)\n",
    "\n",
    "    def __repr__(self): # criado para ser claro, inequívoco\n",
    "        return \"<Person('{}'), {}>\".format(self.name, self.age) # string feita para programadores compreenderem como recriar o objeto de forma mais fácil\n",
    "\n",
    "bob = Person(\"Bob\", 35)\n",
    "print(bob)"
   ]
  },
  {
   "cell_type": "markdown",
   "metadata": {},
   "source": [
    "> o método __ repr __() transforma o objeto instanciado em uma string pré determinada dentro dele, usada por programadores"
   ]
  },
  {
   "cell_type": "markdown",
   "metadata": {},
   "source": [
    "#### Métodos de Classe e Métodos Estáticos"
   ]
  },
  {
   "cell_type": "markdown",
   "metadata": {},
   "source": [
    "Até então, usamos apenas métodos mágicos e métodos que precisam da instância da classe para poderem ser chamados"
   ]
  },
  {
   "cell_type": "code",
   "execution_count": 80,
   "metadata": {},
   "outputs": [
    {
     "name": "stdout",
     "output_type": "stream",
     "text": [
      "Called instance_method of <__main__.ClassTest object at 0x000002104D024E90>\n",
      "Called instance_method of <__main__.ClassTest object at 0x000002104D024E90>\n"
     ]
    }
   ],
   "source": [
    "class ClassTest:\n",
    "    def instance_method(self):\n",
    "        print(\"Called instance_method of {}\".format(self))\n",
    "\n",
    "test = ClassTest()\n",
    "\n",
    "test.instance_method()\n",
    "ClassTest.instance_method(test)"
   ]
  },
  {
   "cell_type": "markdown",
   "metadata": {},
   "source": [
    "Mas é possível criar @classmethod's"
   ]
  },
  {
   "cell_type": "code",
   "execution_count": 83,
   "metadata": {},
   "outputs": [
    {
     "name": "stdout",
     "output_type": "stream",
     "text": [
      "Called class_method of <class '__main__.ClassTest'>\n"
     ]
    }
   ],
   "source": [
    "class ClassTest:\n",
    "    def instance_method(self):\n",
    "        print(\"Called instance_method of {}\".format(self))\n",
    "\n",
    "    @classmethod\n",
    "    def class_method(cls):\n",
    "        print(\"Called class_method of {}\".format(cls))\n",
    "\n",
    "ClassTest.class_method() # sem colocar nada como argumento, o Python passará a classe como argumento do class_method"
   ]
  },
  {
   "cell_type": "markdown",
   "metadata": {},
   "source": [
    "E @staticmethod's"
   ]
  },
  {
   "cell_type": "code",
   "execution_count": 84,
   "metadata": {},
   "outputs": [
    {
     "name": "stdout",
     "output_type": "stream",
     "text": [
      "Called static_method.\n"
     ]
    }
   ],
   "source": [
    "class ClassTest:\n",
    "    def instance_method(self):\n",
    "        print(\"Called instance_method of {}\".format(self))\n",
    "\n",
    "    @classmethod\n",
    "    def class_method(cls):\n",
    "        print(\"Called class_method of {}\".format(cls))\n",
    "\n",
    "    @staticmethod\n",
    "    def static_method():\n",
    "        print(\"Called static_method.\")\n",
    "\n",
    "ClassTest.static_method()"
   ]
  },
  {
   "cell_type": "markdown",
   "metadata": {},
   "source": [
    "Um @staticmethod é apenas uma função colocada dentro de uma classe que não utiliza informações da classe para nada"
   ]
  },
  {
   "cell_type": "markdown",
   "metadata": {},
   "source": [
    "##### Para que são usadas?"
   ]
  },
  {
   "cell_type": "code",
   "execution_count": 93,
   "metadata": {},
   "outputs": [
    {
     "name": "stdout",
     "output_type": "stream",
     "text": [
      "<Book Bible, hardcover, weighting 300g>\n",
      "<Book Sozinha no Mundo, paperback, weighting 20g>\n"
     ]
    }
   ],
   "source": [
    "class Book:\n",
    "    TYPES = (\"hardcover\", \"paperback\")\n",
    "\n",
    "    def __init__(self, name, book_type, weight):\n",
    "        self.name = name\n",
    "        self.book_type = book_type\n",
    "        self.weight = weight\n",
    "\n",
    "    def __repr__(self):\n",
    "        return f\"<Book {self.name}, {self.book_type}, weighting {self.weight}g>\"\n",
    "\n",
    "    @classmethod\n",
    "    def hardcover(cls, name, page_weight):\n",
    "        return cls(name, cls.TYPES[0], page_weight + 100)\n",
    "\n",
    "    @classmethod\n",
    "    def paperback(cls, name, page_weight):\n",
    "        return cls(name, cls.TYPES[1], page_weight)\n",
    "\n",
    "book = Book.hardcover(\"Bible\", 200)\n",
    "book2 = Book.paperback(\"Sozinha no Mundo\", 20)\n",
    "print(book)\n",
    "print(book2)"
   ]
  },
  {
   "cell_type": "markdown",
   "metadata": {},
   "source": [
    "#### Herança"
   ]
  },
  {
   "cell_type": "code",
   "execution_count": 95,
   "metadata": {},
   "outputs": [
    {
     "name": "stdout",
     "output_type": "stream",
     "text": [
      "Device 'Printer' (USB)\n",
      "Disconnected\n"
     ]
    }
   ],
   "source": [
    "class Device:\n",
    "    def __init__(self, name, connected_by):\n",
    "        self.name = name\n",
    "        self.connected_by = connected_by\n",
    "        self.connected = True\n",
    "\n",
    "    def __str__(self):\n",
    "        return f\"Device {self.name!r} ({self.connected_by})\"\n",
    "\n",
    "    def disconnect(self):\n",
    "        self.connected = False\n",
    "        print(\"Disconnected\")\n",
    "\n",
    "printer = Device(\"Printer\", \"USB\")\n",
    "print(printer)\n",
    "printer.disconnect()"
   ]
  },
  {
   "cell_type": "markdown",
   "metadata": {},
   "source": [
    "> A classe acima é um dispositivo, mas não representa muito bem o que uma impressora pode ter de diferente dos outros dispositivos, então criar uma herança para essa classe pode ser interessante uma vez que a classe que herdar esses métodos poderá implementar novos que contemplem ainda mais uma impressora"
   ]
  },
  {
   "cell_type": "code",
   "execution_count": 99,
   "metadata": {},
   "outputs": [
    {
     "name": "stdout",
     "output_type": "stream",
     "text": [
      "Printing 20\n",
      "Device 'Printer' (USB) (480 pages remaining)\n",
      "Disconnected\n",
      "Your printer is not connected!\n"
     ]
    }
   ],
   "source": [
    "class Device:\n",
    "    def __init__(self, name, connected_by):\n",
    "        self.name = name\n",
    "        self.connected_by = connected_by\n",
    "        self.connected = True\n",
    "\n",
    "    def __str__(self):\n",
    "        return f\"Device {self.name!r} ({self.connected_by})\"\n",
    "\n",
    "    def disconnect(self):\n",
    "        self.connected = False\n",
    "        print(\"Disconnected\")\n",
    "\n",
    "class Printer(Device): # herança se faz assim em Python, sim, só colocar o nome da classe mãe entre parênteses ao criar a classe filha... uau :D\n",
    "    def __init__(self, name, connected_by, capacity):\n",
    "        super().__init__(name, connected_by)\n",
    "        self.capacity = capacity\n",
    "        self.remaining_pages = capacity\n",
    "\n",
    "    def __str__(self):\n",
    "        return f\"{super().__str__()} ({self.remaining_pages} pages remaining)\"\n",
    "\n",
    "    def print(self, pages):\n",
    "        if not self.connected:\n",
    "            print(\"Your printer is not connected!\")\n",
    "            return\n",
    "        print(\"Printing {}\".format(pages))\n",
    "        self.remaining_pages -= pages\n",
    "\n",
    "printer = Printer(\"Printer\", \"USB\", 500)\n",
    "printer.print(20)\n",
    "print(printer)\n",
    "printer.disconnect()\n",
    "printer.print(1)"
   ]
  },
  {
   "cell_type": "markdown",
   "metadata": {},
   "source": [
    "#### Composição de Classes"
   ]
  },
  {
   "cell_type": "markdown",
   "metadata": {},
   "source": [
    "A diferença entre Herança e Composição está na seguinte ideia:\n",
    "- Uma herança diz que toda classe filha **é** uma classe mãe com algumas coisas a mais, mas nem toda classe mãe é a classe filha\n",
    "    - Como todos os tigres são mamíferos mas nem todo mamífero é um tigre\n",
    "- Já em uma composição a classe \"filha\" é **parte** da classe mãe e a classe mãe **é composta por** elementos do tipo da classe filha\n",
    "    - Como uma biblioteca possui livros mas não é livro, e vice versa"
   ]
  },
  {
   "cell_type": "code",
   "execution_count": 105,
   "metadata": {},
   "outputs": [
    {
     "name": "stdout",
     "output_type": "stream",
     "text": [
      "BookShelf with 2 books.\n"
     ]
    }
   ],
   "source": [
    "class BookShelf:\n",
    "    def __init__(self, *books):\n",
    "        self.books = books\n",
    "\n",
    "    def __str__(self):\n",
    "        return \"BookShelf with {} books.\".format(len(self.books))\n",
    "\n",
    "class Book:\n",
    "    def __init__(self, name):\n",
    "        self.name = name\n",
    "\n",
    "    def __str__(self):\n",
    "        return \"Book {}\".format(self.name)\n",
    "\n",
    "boook = Book(\"Bible\") # criando um livro\n",
    "boook2 = Book(\"Python 101\") # criando mais um livro\n",
    "\n",
    "shelf = BookShelf(book, book2) # criando uma prateleira composta de dois livros\n",
    "\n",
    "print(shelf)"
   ]
  },
  {
   "cell_type": "markdown",
   "metadata": {},
   "source": [
    "### Type Hinting"
   ]
  },
  {
   "cell_type": "markdown",
   "metadata": {},
   "source": [
    "Dá tipo às coisas"
   ]
  },
  {
   "cell_type": "code",
   "execution_count": 111,
   "metadata": {},
   "outputs": [
    {
     "data": {
      "text/plain": [
       "154.33333333333334"
      ]
     },
     "execution_count": 111,
     "metadata": {},
     "output_type": "execute_result"
    }
   ],
   "source": [
    "from typing import List\n",
    "\n",
    "def list_avg(sequence: list) -> float: # dá um formato ao parâmetro list e diz que o retorno da função será do tipo float\n",
    "    return sum(sequence) / len(sequence)\n",
    "\n",
    "list_avg([123, 7, 333])"
   ]
  },
  {
   "cell_type": "code",
   "execution_count": 112,
   "metadata": {},
   "outputs": [],
   "source": [
    "class Book:\n",
    "    pass\n",
    "\n",
    "class BookShelf:\n",
    "    def __init__(self, books: List[Book]):\n",
    "        self.books = books\n",
    "    \n",
    "    def __str__(self) -> str:\n",
    "        return \"BookShelf with {} books.\".format(len(self.books))"
   ]
  },
  {
   "cell_type": "code",
   "execution_count": 113,
   "metadata": {},
   "outputs": [],
   "source": [
    "class Book:\n",
    "    TYPES = (\"hardcover\", \"paperback\")\n",
    "\n",
    "    def __init__(self, name: str, book_type: str, weight: int):\n",
    "        self.name = name\n",
    "        self.book_type = book_type\n",
    "        self.weight = weight\n",
    "\n",
    "    def __repr__(self) -> str:\n",
    "        return f\"<Book {self.name}, {self.book_type}, weighting {self.weight}g>\"\n",
    "\n",
    "    @classmethod\n",
    "    def hardcover(cls, name: str, page_weight: int) -> \"Book\": # se o tipo retornado é a classe que está sendo criada, então ele deve ser colocado entre \"\"\n",
    "        return cls(name, cls.TYPES[0], page_weight + 100)\n",
    "\n",
    "    @classmethod\n",
    "    def paperback(cls, name: str, page_weight: int) -> \"Book\":\n",
    "        return cls(name, cls.TYPES[1], page_weight)"
   ]
  },
  {
   "cell_type": "markdown",
   "metadata": {},
   "source": [
    "> assegura que o tipo do que está sendo usado/chamado é o tipo correto"
   ]
  },
  {
   "cell_type": "markdown",
   "metadata": {},
   "source": [
    "### Importar no Python"
   ]
  },
  {
   "cell_type": "markdown",
   "metadata": {},
   "source": [
    "- Necessário mais classes, não da pra exemplificar no Jupyter\n",
    "- Exemplos em **code.py**, **mylib.py** e **mymodule.py**\n",
    "- Criar arquivo __ init __.py em pastas que serão importadas pois sem ele versões antigas do Python podem não aceitar"
   ]
  },
  {
   "cell_type": "markdown",
   "metadata": {},
   "source": [
    "### Erros em Python"
   ]
  },
  {
   "cell_type": "code",
   "execution_count": 3,
   "metadata": {},
   "outputs": [
    {
     "name": "stdout",
     "output_type": "stream",
     "text": [
      "Welcome to the average grade program!\n",
      "Divisor cannot be a 0.\n",
      "The average grade is None\n"
     ]
    }
   ],
   "source": [
    "def divide(dividend, divisor):\n",
    "    if divisor == 0:\n",
    "        print(\"Divisor cannot be a 0.\")\n",
    "        return\n",
    "    return dividend / divisor\n",
    "\n",
    "grades = []\n",
    "\n",
    "print(\"Welcome to the average grade program!\")\n",
    "average = divide(sum(grades), len(grades))\n",
    "\n",
    "print(\"The average grade is {}\".format(average))"
   ]
  },
  {
   "cell_type": "markdown",
   "metadata": {},
   "source": [
    "> Nenhum erro está sendo tratado, as respostas do código são estranhas"
   ]
  },
  {
   "cell_type": "code",
   "execution_count": 4,
   "metadata": {},
   "outputs": [
    {
     "name": "stdout",
     "output_type": "stream",
     "text": [
      "Welcome to the average grade program!\n"
     ]
    },
    {
     "ename": "ZeroDivisionError",
     "evalue": "Divisor cannot be 0.",
     "output_type": "error",
     "traceback": [
      "\u001b[1;31m---------------------------------------------------------------------------\u001b[0m",
      "\u001b[1;31mZeroDivisionError\u001b[0m                         Traceback (most recent call last)",
      "Cell \u001b[1;32mIn [4], line 9\u001b[0m\n\u001b[0;32m      6\u001b[0m grades \u001b[39m=\u001b[39m []\n\u001b[0;32m      8\u001b[0m \u001b[39mprint\u001b[39m(\u001b[39m\"\u001b[39m\u001b[39mWelcome to the average grade program!\u001b[39m\u001b[39m\"\u001b[39m)\n\u001b[1;32m----> 9\u001b[0m average \u001b[39m=\u001b[39m divide(\u001b[39msum\u001b[39;49m(grades), \u001b[39mlen\u001b[39;49m(grades))\n\u001b[0;32m     11\u001b[0m \u001b[39mprint\u001b[39m(\u001b[39m\"\u001b[39m\u001b[39mThe average grade is \u001b[39m\u001b[39m{}\u001b[39;00m\u001b[39m\"\u001b[39m\u001b[39m.\u001b[39mformat(average))\n",
      "Cell \u001b[1;32mIn [4], line 3\u001b[0m, in \u001b[0;36mdivide\u001b[1;34m(dividend, divisor)\u001b[0m\n\u001b[0;32m      1\u001b[0m \u001b[39mdef\u001b[39;00m \u001b[39mdivide\u001b[39m(dividend, divisor):\n\u001b[0;32m      2\u001b[0m     \u001b[39mif\u001b[39;00m divisor \u001b[39m==\u001b[39m \u001b[39m0\u001b[39m:\n\u001b[1;32m----> 3\u001b[0m         \u001b[39mraise\u001b[39;00m \u001b[39mZeroDivisionError\u001b[39;00m(\u001b[39m\"\u001b[39m\u001b[39mDivisor cannot be 0.\u001b[39m\u001b[39m\"\u001b[39m) \u001b[39m# cria uma excessão\u001b[39;00m\n\u001b[0;32m      4\u001b[0m     \u001b[39mreturn\u001b[39;00m dividend \u001b[39m/\u001b[39m divisor\n",
      "\u001b[1;31mZeroDivisionError\u001b[0m: Divisor cannot be 0."
     ]
    }
   ],
   "source": [
    "def divide(dividend, divisor):\n",
    "    if divisor == 0:\n",
    "        raise ZeroDivisionError(\"Divisor cannot be 0.\") # cria uma excessão\n",
    "    return dividend / divisor\n",
    "\n",
    "grades = []\n",
    "\n",
    "print(\"Welcome to the average grade program!\")\n",
    "average = divide(sum(grades), len(grades))\n",
    "\n",
    "print(\"The average grade is {}\".format(average))"
   ]
  },
  {
   "cell_type": "markdown",
   "metadata": {},
   "source": [
    "> Como agora o erro foi tratado, a mensagem não aparece mais no terminal, mas numa excessão própria dele"
   ]
  },
  {
   "cell_type": "code",
   "execution_count": 11,
   "metadata": {},
   "outputs": [
    {
     "name": "stdout",
     "output_type": "stream",
     "text": [
      "Welcome to the average grade program!\n",
      "Divisor cannot be 0.\n",
      "There are no grades yet in your list.\n"
     ]
    }
   ],
   "source": [
    "def divide(dividend, divisor):\n",
    "    if divisor == 0:\n",
    "        raise ZeroDivisionError(\"Divisor cannot be 0.\") # cria uma excessão\n",
    "    return dividend / divisor\n",
    "\n",
    "grades = []\n",
    "\n",
    "print(\"Welcome to the average grade program!\")\n",
    "\n",
    "try:\n",
    "    average = divide(sum(grades), len(grades))\n",
    "    print(\"The average grade is {}\".format(average))\n",
    "except ZeroDivisionError as e:\n",
    "    print(e) # recebe o valor da excessão explícito quando ela foi tratada\n",
    "    print(\"There are no grades yet in your list.\")"
   ]
  },
  {
   "cell_type": "markdown",
   "metadata": {},
   "source": [
    "> Com o try-except (similar ao ty-catch no java), podemos envelopar o bloco de código que pode gerar erro e responder algo ao usuário diferente do que ele veria sem o erro"
   ]
  },
  {
   "cell_type": "code",
   "execution_count": 12,
   "metadata": {},
   "outputs": [
    {
     "name": "stdout",
     "output_type": "stream",
     "text": [
      "Welcome to the average grade program!\n",
      "Divisor cannot be 0.\n",
      "There are no grades yet in your list.\n",
      "Thank you!\n"
     ]
    }
   ],
   "source": [
    "def divide(dividend, divisor):\n",
    "    if divisor == 0:\n",
    "        raise ZeroDivisionError(\"Divisor cannot be 0.\") # cria uma excessão\n",
    "    return dividend / divisor\n",
    "\n",
    "grades = []\n",
    "\n",
    "print(\"Welcome to the average grade program!\")\n",
    "\n",
    "try:\n",
    "    average = divide(sum(grades), len(grades))\n",
    "except ZeroDivisionError as e: # a variável e  recebe o valor da excessão explícito quando ela foi tratada\n",
    "    print(\"There are no grades yet in your list.\")\n",
    "else: # só roda o que estiver a seguir apenas se não der erro\n",
    "    print(\"The average grade is {}\".format(average))\n",
    "finally: # roda o que estiver a sequir independente de qualquer coisa\n",
    "    print(\"Thank you!\")"
   ]
  },
  {
   "cell_type": "markdown",
   "metadata": {},
   "source": [
    "> É possível tratar mais de um erro ao mesmo tempo e chamá-los de formas diferentes"
   ]
  },
  {
   "cell_type": "code",
   "execution_count": 15,
   "metadata": {},
   "outputs": [
    {
     "name": "stdout",
     "output_type": "stream",
     "text": [
      "Welcome to the average grade program!\n",
      "\n",
      "Bob averaged 82.5.\n",
      "Rolf averaged 50.0.\n",
      "Jen averaged 95.0.\n",
      "-- All student averages calculated --\n",
      "-- End of student average calculation --\n"
     ]
    }
   ],
   "source": [
    "def divide(dividend, divisor):\n",
    "    if divisor == 0:\n",
    "        raise ZeroDivisionError(\"Divisor cannot be 0.\")\n",
    "    return dividend / divisor\n",
    "\n",
    "students = [\n",
    "    {\"name\": \"Bob\", \"grades\": [75, 90]},\n",
    "    {\"name\": \"Rolf\", \"grades\": [50]},\n",
    "    {\"name\": \"Jen\", \"grades\": [100, 90]},\n",
    "]\n",
    "\n",
    "print(\"Welcome to the average grade program!\")\n",
    "print()\n",
    "try:\n",
    "    for student in students:\n",
    "        name = student[\"name\"]\n",
    "        grades = student[\"grades\"]\n",
    "        average = divide(sum(grades), len(grades))\n",
    "        print(\"{} averaged {}.\".format(name, average))\n",
    "except ZeroDivisionError as e:\n",
    "    print(\"ERROR: {} has no grades!\".format(name))\n",
    "else:\n",
    "    print(\"-- All student averages calculated --\")\n",
    "finally:\n",
    "    print(\"-- End of student average calculation --\")"
   ]
  },
  {
   "cell_type": "markdown",
   "metadata": {},
   "source": [
    "#### Customizar classes de erro"
   ]
  },
  {
   "cell_type": "code",
   "execution_count": 2,
   "metadata": {},
   "outputs": [
    {
     "name": "stdout",
     "output_type": "stream",
     "text": [
      "You have now read 35 pages out of 50.\n",
      "You have now read 85 pages out of 50.\n"
     ]
    }
   ],
   "source": [
    "class Book:\n",
    "    def __init__(self, name: str, page_count: int):\n",
    "        self.name = name\n",
    "        self.page_count = page_count\n",
    "        self.pages_read = 0\n",
    "\n",
    "    def __repr__(self) -> str:\n",
    "        return (\n",
    "            f\"<Book {self.name}, read {self.pages_read} pages out of {self.page_count}>\"\n",
    "        )\n",
    "\n",
    "    def read(self, pages: int):\n",
    "        self.pages_read += pages\n",
    "        print(\"You have now read {} pages out of {}.\".format(self.pages_read, self.page_count))\n",
    "\n",
    "python101 = Book(\"Python 101\", 50)\n",
    "python101.read(35)\n",
    "python101.read(50)"
   ]
  },
  {
   "cell_type": "markdown",
   "metadata": {},
   "source": [
    "Não faz sentido ler 85 páginas de um livro com 50, por isso precisamos tratar um erro para melhorar essa situação"
   ]
  },
  {
   "cell_type": "code",
   "execution_count": 3,
   "metadata": {},
   "outputs": [
    {
     "name": "stdout",
     "output_type": "stream",
     "text": [
      "You have now read 35 pages out of 50.\n"
     ]
    },
    {
     "ename": "TooManyPagesReadError",
     "evalue": "You tried to read 85 pages, but this only has 50 pages.",
     "output_type": "error",
     "traceback": [
      "\u001b[1;31m---------------------------------------------------------------------------\u001b[0m",
      "\u001b[1;31mTooManyPagesReadError\u001b[0m                     Traceback (most recent call last)",
      "Cell \u001b[1;32mIn [3], line 25\u001b[0m\n\u001b[0;32m     23\u001b[0m python101 \u001b[39m=\u001b[39m Book(\u001b[39m\"\u001b[39m\u001b[39mPython 101\u001b[39m\u001b[39m\"\u001b[39m, \u001b[39m50\u001b[39m)\n\u001b[0;32m     24\u001b[0m python101\u001b[39m.\u001b[39mread(\u001b[39m35\u001b[39m)\n\u001b[1;32m---> 25\u001b[0m python101\u001b[39m.\u001b[39;49mread(\u001b[39m50\u001b[39;49m)\n",
      "Cell \u001b[1;32mIn [3], line 17\u001b[0m, in \u001b[0;36mBook.read\u001b[1;34m(self, pages)\u001b[0m\n\u001b[0;32m     15\u001b[0m \u001b[39mdef\u001b[39;00m \u001b[39mread\u001b[39m(\u001b[39mself\u001b[39m, pages: \u001b[39mint\u001b[39m):\n\u001b[0;32m     16\u001b[0m     \u001b[39mif\u001b[39;00m \u001b[39mself\u001b[39m\u001b[39m.\u001b[39mpages_read \u001b[39m+\u001b[39m pages \u001b[39m>\u001b[39m \u001b[39mself\u001b[39m\u001b[39m.\u001b[39mpage_count:\n\u001b[1;32m---> 17\u001b[0m         \u001b[39mraise\u001b[39;00m TooManyPagesReadError(\n\u001b[0;32m     18\u001b[0m             \u001b[39mf\u001b[39m\u001b[39m\"\u001b[39m\u001b[39mYou tried to read \u001b[39m\u001b[39m{\u001b[39;00m\u001b[39mself\u001b[39m\u001b[39m.\u001b[39mpages_read \u001b[39m+\u001b[39m pages\u001b[39m}\u001b[39;00m\u001b[39m pages, but this only has \u001b[39m\u001b[39m{\u001b[39;00m\u001b[39mself\u001b[39m\u001b[39m.\u001b[39mpage_count\u001b[39m}\u001b[39;00m\u001b[39m pages.\u001b[39m\u001b[39m\"\u001b[39m\n\u001b[0;32m     19\u001b[0m         )\n\u001b[0;32m     20\u001b[0m     \u001b[39mself\u001b[39m\u001b[39m.\u001b[39mpages_read \u001b[39m+\u001b[39m\u001b[39m=\u001b[39m pages\n\u001b[0;32m     21\u001b[0m     \u001b[39mprint\u001b[39m(\u001b[39m\"\u001b[39m\u001b[39mYou have now read \u001b[39m\u001b[39m{}\u001b[39;00m\u001b[39m pages out of \u001b[39m\u001b[39m{}\u001b[39;00m\u001b[39m.\u001b[39m\u001b[39m\"\u001b[39m\u001b[39m.\u001b[39mformat(\u001b[39mself\u001b[39m\u001b[39m.\u001b[39mpages_read, \u001b[39mself\u001b[39m\u001b[39m.\u001b[39mpage_count))\n",
      "\u001b[1;31mTooManyPagesReadError\u001b[0m: You tried to read 85 pages, but this only has 50 pages."
     ]
    }
   ],
   "source": [
    "class TooManyPagesReadError(ValueError): # cria um erro que herda de ValueError, mas muda seu nome para ficar melhor para a aplicação\n",
    "    pass\n",
    "\n",
    "class Book:\n",
    "    def __init__(self, name: str, page_count: int):\n",
    "        self.name = name\n",
    "        self.page_count = page_count\n",
    "        self.pages_read = 0\n",
    "\n",
    "    def __repr__(self) -> str:\n",
    "        return (\n",
    "            f\"<Book {self.name}, read {self.pages_read} pages out of {self.page_count}>\"\n",
    "        )\n",
    "\n",
    "    def read(self, pages: int):\n",
    "        if self.pages_read + pages > self.page_count:\n",
    "            raise TooManyPagesReadError(\n",
    "                f\"You tried to read {self.pages_read + pages} pages, but this only has {self.page_count} pages.\"\n",
    "            )\n",
    "        self.pages_read += pages\n",
    "        print(\"You have now read {} pages out of {}.\".format(self.pages_read, self.page_count))\n",
    "\n",
    "python101 = Book(\"Python 101\", 50)\n",
    "python101.read(35)\n",
    "python101.read(50)"
   ]
  },
  {
   "cell_type": "markdown",
   "metadata": {},
   "source": [
    "Dessa forma o erro foi tratado, mas a mensagem ainda está feia para o usuário, então usamos o try-except"
   ]
  },
  {
   "cell_type": "code",
   "execution_count": 5,
   "metadata": {},
   "outputs": [
    {
     "name": "stdout",
     "output_type": "stream",
     "text": [
      "You have now read 35 pages out of 50.\n",
      "You tried to read 85 pages, but this only has 50 pages.\n"
     ]
    }
   ],
   "source": [
    "class TooManyPagesReadError(ValueError):\n",
    "    pass\n",
    "\n",
    "class Book:\n",
    "    def __init__(self, name: str, page_count: int):\n",
    "        self.name = name\n",
    "        self.page_count = page_count\n",
    "        self.pages_read = 0\n",
    "\n",
    "    def __repr__(self) -> str:\n",
    "        return (\n",
    "            f\"<Book {self.name}, read {self.pages_read} pages out of {self.page_count}>\"\n",
    "        )\n",
    "\n",
    "    def read(self, pages: int):\n",
    "        if self.pages_read + pages > self.page_count:\n",
    "            raise TooManyPagesReadError(\n",
    "                f\"You tried to read {self.pages_read + pages} pages, but this only has {self.page_count} pages.\"\n",
    "            )\n",
    "        self.pages_read += pages\n",
    "        print(\"You have now read {} pages out of {}.\".format(self.pages_read, self.page_count))\n",
    "\n",
    "python101 = Book(\"Python 101\", 50)\n",
    "\n",
    "try:\n",
    "    python101.read(35)\n",
    "    python101.read(50)\n",
    "except TooManyPagesReadError as e:\n",
    "    print(e)\n",
    "    "
   ]
  },
  {
   "cell_type": "markdown",
   "metadata": {},
   "source": [
    "> Criar erros que herdam de erros já presentes no Python é uma boa ideia"
   ]
  },
  {
   "cell_type": "markdown",
   "metadata": {},
   "source": [
    "### Funções de Primeira-Classe"
   ]
  },
  {
   "cell_type": "markdown",
   "metadata": {},
   "source": [
    "Funções de Primeira-Classe significam funções que são variáveis e podem ser usadas como elas"
   ]
  },
  {
   "cell_type": "code",
   "execution_count": 8,
   "metadata": {},
   "outputs": [
    {
     "name": "stdout",
     "output_type": "stream",
     "text": [
      "2.5\n"
     ]
    }
   ],
   "source": [
    "def divide(dividend, divisor):\n",
    "    if divisor == 0:\n",
    "        raise ZeroDivisionError(\"Divisor cannot be 0.\")\n",
    "    return dividend / divisor\n",
    "\n",
    "def calculate(*values, operator):\n",
    "    return operator(*values) \n",
    "\n",
    "# operator recebe o valor de divide e agora é a mesma função que ela\n",
    "result = calculate(20, 8, operator=divide) # se uma função precisar ser passada como valor, basta não colocar os ()\n",
    "print(result)"
   ]
  },
  {
   "cell_type": "markdown",
   "metadata": {},
   "source": [
    "> O código não sabe se um argumento é uma função ou não, a menos que sejam usados ()"
   ]
  },
  {
   "cell_type": "code",
   "execution_count": 9,
   "metadata": {},
   "outputs": [
    {
     "ename": "RuntimeError",
     "evalue": "Could not find an element with Bob Smith",
     "output_type": "error",
     "traceback": [
      "\u001b[1;31m---------------------------------------------------------------------------\u001b[0m",
      "\u001b[1;31mRuntimeError\u001b[0m                              Traceback (most recent call last)",
      "Cell \u001b[1;32mIn [9], line 17\u001b[0m\n\u001b[0;32m     14\u001b[0m \u001b[39mdef\u001b[39;00m \u001b[39mget_friend_name\u001b[39m(friend):\n\u001b[0;32m     15\u001b[0m     \u001b[39mreturn\u001b[39;00m friend[\u001b[39m\"\u001b[39m\u001b[39mname\u001b[39m\u001b[39m\"\u001b[39m]\n\u001b[1;32m---> 17\u001b[0m \u001b[39mprint\u001b[39m(search(friends, \u001b[39m\"\u001b[39;49m\u001b[39mBob Smith\u001b[39;49m\u001b[39m\"\u001b[39;49m, get_friend_name))\n",
      "Cell \u001b[1;32mIn [9], line 5\u001b[0m, in \u001b[0;36msearch\u001b[1;34m(sequence, expected, finder)\u001b[0m\n\u001b[0;32m      3\u001b[0m     \u001b[39mif\u001b[39;00m finder(elem) \u001b[39m==\u001b[39m expected:\n\u001b[0;32m      4\u001b[0m         \u001b[39mreturn\u001b[39;00m elem\n\u001b[1;32m----> 5\u001b[0m \u001b[39mraise\u001b[39;00m \u001b[39mRuntimeError\u001b[39;00m(\u001b[39m\"\u001b[39m\u001b[39mCould not find an element with \u001b[39m\u001b[39m{}\u001b[39;00m\u001b[39m\"\u001b[39m\u001b[39m.\u001b[39mformat(expected))\n",
      "\u001b[1;31mRuntimeError\u001b[0m: Could not find an element with Bob Smith"
     ]
    }
   ],
   "source": [
    "def search(sequence, expected, finder):\n",
    "    for elem in sequence:\n",
    "        if finder(elem) == expected:\n",
    "            return elem\n",
    "    raise RuntimeError(\"Could not find an element with {}\".format(expected))\n",
    "\n",
    "\n",
    "friends = [\n",
    "    {\"name\": \"Rolf Smith\", \"age\": 24},\n",
    "    {\"name\": \"Adam Wolf\", \"age\": 30},\n",
    "    {\"name\": \"Anne Pun\", \"age\": 27},\n",
    "]\n",
    "\n",
    "def get_friend_name(friend):\n",
    "    return friend[\"name\"]\n",
    "\n",
    "print(search(friends, \"Bob Smith\", get_friend_name))"
   ]
  },
  {
   "cell_type": "markdown",
   "metadata": {},
   "source": [
    "Não existe um amigo chamado Bob Smith, então volta um erro"
   ]
  },
  {
   "cell_type": "code",
   "execution_count": 10,
   "metadata": {},
   "outputs": [
    {
     "name": "stdout",
     "output_type": "stream",
     "text": [
      "{'name': 'Rolf Smith', 'age': 24}\n"
     ]
    }
   ],
   "source": [
    "def search(sequence, expected, finder):\n",
    "    for elem in sequence:\n",
    "        if finder(elem) == expected:\n",
    "            return elem\n",
    "    raise RuntimeError(\"Could not find an element with {}\".format(expected))\n",
    "\n",
    "\n",
    "friends = [\n",
    "    {\"name\": \"Rolf Smith\", \"age\": 24},\n",
    "    {\"name\": \"Adam Wolf\", \"age\": 30},\n",
    "    {\"name\": \"Anne Pun\", \"age\": 27},\n",
    "]\n",
    "\n",
    "def get_friend_name(friend):\n",
    "    return friend[\"name\"]\n",
    "\n",
    "print(search(friends, \"Rolf Smith\", get_friend_name))"
   ]
  },
  {
   "cell_type": "markdown",
   "metadata": {},
   "source": [
    "Já o Rolf Smith existe, então retorna o dict dele"
   ]
  },
  {
   "cell_type": "markdown",
   "metadata": {},
   "source": [
    "### Decoradores simples"
   ]
  },
  {
   "cell_type": "code",
   "execution_count": 22,
   "metadata": {},
   "outputs": [
    {
     "name": "stdout",
     "output_type": "stream",
     "text": [
      "No admin permiissions for jose\n"
     ]
    }
   ],
   "source": [
    "user ={\"username\": \"jose\", \"access_level\": \"guest\"}\n",
    "\n",
    "def get_admin_password():\n",
    "    return \"1234\"\n",
    "\n",
    "def make_secure(func):\n",
    "    def secure_function():\n",
    "        if user[\"access_level\"] == \"admin\":\n",
    "            return func()\n",
    "        else:\n",
    "            return \"No admin permiissions for {}\".format(user[\"username\"])\n",
    "    return secure_function\n",
    "\n",
    "get_admin_password = make_secure(get_admin_password)\n",
    "\n",
    "print(get_admin_password())"
   ]
  },
  {
   "cell_type": "code",
   "execution_count": 21,
   "metadata": {},
   "outputs": [
    {
     "name": "stdout",
     "output_type": "stream",
     "text": [
      "1234\n"
     ]
    }
   ],
   "source": [
    "user ={\"username\": \"jose\", \"access_level\": \"admin\"}\n",
    "\n",
    "def get_admin_password():\n",
    "    return \"1234\"\n",
    "\n",
    "def make_secure(func):\n",
    "    def secure_function():\n",
    "        if user[\"access_level\"] == \"admin\":\n",
    "            return func()\n",
    "        else:\n",
    "            return \"No admin permiissions for {}\".format(user[\"username\"])\n",
    "    return secure_function\n",
    "\n",
    "get_admin_password = make_secure(get_admin_password)\n",
    "\n",
    "print(get_admin_password())"
   ]
  },
  {
   "cell_type": "markdown",
   "metadata": {},
   "source": [
    "#### A sintaxe **@** para decoradores"
   ]
  },
  {
   "cell_type": "code",
   "execution_count": 25,
   "metadata": {},
   "outputs": [
    {
     "name": "stdout",
     "output_type": "stream",
     "text": [
      "No admin permiissions for jose\n"
     ]
    }
   ],
   "source": [
    "import functools\n",
    "\n",
    "user ={\"username\": \"jose\", \"access_level\": \"guest\"}\n",
    "\n",
    "@make_secure\n",
    "def get_admin_password():\n",
    "    return \"1234\"\n",
    "\n",
    "def make_secure(func):\n",
    "    @functools.wraps(func)\n",
    "    def secure_function():\n",
    "        if user[\"access_level\"] == \"admin\":\n",
    "            return func()\n",
    "        else:\n",
    "            return \"No admin permiissions for {}\".format(user[\"username\"])\n",
    "    return secure_function\n",
    "\n",
    "print(get_admin_password())"
   ]
  },
  {
   "cell_type": "markdown",
   "metadata": {},
   "source": [
    "> Faz o mesmo que a chamada com ```get_admin_password = make_secure(get_admin_password)``` mas de maneira mais fácil"
   ]
  },
  {
   "cell_type": "markdown",
   "metadata": {},
   "source": [
    "#### Decorando funções com parâmetros"
   ]
  },
  {
   "cell_type": "code",
   "execution_count": 30,
   "metadata": {},
   "outputs": [
    {
     "name": "stdout",
     "output_type": "stream",
     "text": [
      "super_secure_password\n"
     ]
    }
   ],
   "source": [
    "import functools\n",
    "\n",
    "user ={\"username\": \"jose\", \"access_level\": \"admin\"}\n",
    "\n",
    "@make_secure\n",
    "def get_password(panel):\n",
    "    if panel == \"admin\":\n",
    "        return \"1234\"\n",
    "    elif panel == \"billing\":\n",
    "        return \"super_secure_password\"\n",
    "\n",
    "def make_secure(func):\n",
    "    @functools.wraps(func)\n",
    "    def secure_function(*args, **kwargs):\n",
    "        if user[\"access_level\"] == \"admin\":\n",
    "            return func(*args, **kwargs)\n",
    "        else:\n",
    "            return \"No admin permiissions for {}\".format(user[\"username\"])\n",
    "    return secure_function\n",
    "\n",
    "print(get_password(\"billing\"))"
   ]
  },
  {
   "cell_type": "markdown",
   "metadata": {},
   "source": [
    "#### Decoradores com parâmetros"
   ]
  },
  {
   "cell_type": "code",
   "execution_count": 37,
   "metadata": {},
   "outputs": [
    {
     "name": "stdout",
     "output_type": "stream",
     "text": [
      "admin: 1234\n",
      "No user permiissions for Jose\n",
      "No admin permiissions for Anna\n",
      "user: user_password\n"
     ]
    }
   ],
   "source": [
    "def make_secure(access_level):\n",
    "    def decorator(func):\n",
    "        @functools.wraps(func)\n",
    "        def secure_function(*args, **kwargs):\n",
    "            if user[\"access_level\"] == access_level:\n",
    "                return func(*args, **kwargs)\n",
    "            else:\n",
    "                return \"No {} permiissions for {}\".format(access_level, user[\"username\"])\n",
    "        return secure_function\n",
    "    return decorator\n",
    "\n",
    "@make_secure(\"admin\")\n",
    "def get_admin_password():\n",
    "    return \"admin: 1234\"\n",
    "\n",
    "@make_secure(\"user\")\n",
    "def get_dashboard_password():\n",
    "    return \"user: user_password\"\n",
    "\n",
    "user ={\"username\": \"Jose\", \"access_level\": \"admin\"}\n",
    "\n",
    "print(get_admin_password())\n",
    "print(get_dashboard_password())\n",
    "\n",
    "user = {\"username\": \"Anna\", \"access_level\": \"user\"}\n",
    "\n",
    "print(get_admin_password())\n",
    "print(get_dashboard_password())"
   ]
  },
  {
   "cell_type": "markdown",
   "metadata": {},
   "source": [
    "### Mutabilidade: parâmetros mutáveis e por que são uma má ideia"
   ]
  },
  {
   "cell_type": "code",
   "execution_count": 54,
   "metadata": {},
   "outputs": [
    {
     "name": "stdout",
     "output_type": "stream",
     "text": [
      "[90]\n"
     ]
    }
   ],
   "source": [
    "from typing import List\n",
    "\n",
    "class Student:\n",
    "    def __init__(self, name: str, grades: List[int] = []): # isso é ruim\n",
    "        self.name = name\n",
    "        self.grades = grades\n",
    "\n",
    "    def take_exam(self, result: int):\n",
    "        self.grades.append(result)\n",
    "\n",
    "bob = Student(\"Bob\")\n",
    "bob.take_exam(90)\n",
    "print(bob.grades)"
   ]
  },
  {
   "cell_type": "markdown",
   "metadata": {},
   "source": [
    "Até então está tudo bem, então por que isso é ruim?"
   ]
  },
  {
   "cell_type": "code",
   "execution_count": 55,
   "metadata": {},
   "outputs": [
    {
     "name": "stdout",
     "output_type": "stream",
     "text": [
      "[90]\n",
      "[90]\n"
     ]
    }
   ],
   "source": [
    "from typing import List\n",
    "\n",
    "class Student:\n",
    "    def __init__(self, name: str, grades: List[int] = []): # isso é ruim\n",
    "        self.name = name\n",
    "        self.grades = grades\n",
    "\n",
    "    def take_exam(self, result: int):\n",
    "        self.grades.append(result)\n",
    "\n",
    "bob = Student(\"Bob\") # bob foi criado\n",
    "bob.take_exam(90) # bob fez um exame\n",
    "\n",
    "rolf = Student(\"Rolf\") # rolf foi criado\n",
    "# mas não fez nenhum exame\n",
    "\n",
    "print(bob.grades) # bob tem 90\n",
    "print(rolf.grades) # rolf também tem 90 ...?"
   ]
  },
  {
   "cell_type": "markdown",
   "metadata": {},
   "source": [
    "Dessa forma percebemos que os estudantes estão dividindo a mesma lista para suas notas"
   ]
  },
  {
   "cell_type": "code",
   "execution_count": 57,
   "metadata": {},
   "outputs": [
    {
     "name": "stdout",
     "output_type": "stream",
     "text": [
      "[90]\n",
      "[]\n"
     ]
    }
   ],
   "source": [
    "from typing import List, Optional\n",
    "\n",
    "class Student:\n",
    "    def __init__(self, name: str, grades: Optional[List[int]] = None):\n",
    "        self.name = name\n",
    "        self.grades = grades or []\n",
    "\n",
    "    def take_exam(self, result: int):\n",
    "        self.grades.append(result)\n",
    "\n",
    "bob = Student(\"Bob\")\n",
    "bob.take_exam(90)\n",
    "\n",
    "rolf = Student(\"Rolf\")\n",
    "\n",
    "print(bob.grades)\n",
    "print(rolf.grades)"
   ]
  },
  {
   "cell_type": "markdown",
   "metadata": {},
   "source": [
    "Dessa forma o erro foi corrigido e os estudantes que não fizerem exames, não receberão notas"
   ]
  },
  {
   "cell_type": "markdown",
   "metadata": {},
   "source": [
    "## REST API"
   ]
  },
  {
   "cell_type": "markdown",
   "metadata": {},
   "source": [
    "### Visão Geral"
   ]
  },
  {
   "cell_type": "markdown",
   "metadata": {},
   "source": [
    "#### REST API Simples\n",
    "\n",
    "- Criar lojas, cada com um ```nome``` e uma lista de ```itens``` em estoque\n",
    "- Criar um item dentro de uma loja, cada um com um ```nome``` e um ```preço```\n",
    "- Retornar uma lista de todas as lojas e seus itens\n",
    "- Com seu ```nome```, retornar uma só loja e todos seus itens\n",
    "- Com o ```nome``` de uma loja, retornar apenas a lista de itens dentro dela"
   ]
  },
  {
   "cell_type": "markdown",
   "metadata": {},
   "source": [
    "##### Criar Lojas"
   ]
  },
  {
   "cell_type": "markdown",
   "metadata": {},
   "source": [
    "Solicitação:\n",
    "\n",
    "```\n",
    "POST /store {\"name\": \"My Store\"}\n",
    "```"
   ]
  },
  {
   "cell_type": "markdown",
   "metadata": {},
   "source": [
    "Resposta:\n",
    "\n",
    "```\n",
    "{\"name\": \"My Store\", \"items\": []}\n",
    "```"
   ]
  },
  {
   "cell_type": "markdown",
   "metadata": {},
   "source": [
    "##### Criar Itens"
   ]
  },
  {
   "cell_type": "markdown",
   "metadata": {},
   "source": [
    "Solicitação:\n",
    "\n",
    "```\n",
    "POST /store/My Store {\"name\": \"Chair\", \"price\": 175.50}\n",
    "```"
   ]
  },
  {
   "cell_type": "markdown",
   "metadata": {},
   "source": [
    "Resposta:\n",
    "\n",
    "```\n",
    "{\"name\": \"Chair\", \"price\": 175.50}\n",
    "```"
   ]
  },
  {
   "cell_type": "markdown",
   "metadata": {},
   "source": [
    "##### Retornar todas as lojas e seus itens"
   ]
  },
  {
   "cell_type": "markdown",
   "metadata": {},
   "source": [
    "Solicitação:\n",
    "\n",
    "```\n",
    "GET store\n",
    "```"
   ]
  },
  {
   "cell_type": "markdown",
   "metadata": {},
   "source": [
    "Resposta:\n",
    "\n",
    "```\n",
    "{\n",
    "    \"stores\": [\n",
    "        {\n",
    "            \"name\": \"My Store\",\n",
    "            \"items\": [\n",
    "                {\n",
    "                    \"name\": \"Chair\",\n",
    "                    \"price\": 175.50\n",
    "                }\n",
    "            ]\n",
    "        }\n",
    "    ]\n",
    "}\n",
    "```"
   ]
  },
  {
   "cell_type": "markdown",
   "metadata": {},
   "source": [
    "##### Selecionar uma loja em particular"
   ]
  },
  {
   "cell_type": "markdown",
   "metadata": {},
   "source": [
    "Solicitação:\n",
    "\n",
    "```\n",
    "GET /store/My Store\n",
    "```"
   ]
  },
  {
   "cell_type": "markdown",
   "metadata": {},
   "source": [
    "Resposta:\n",
    "\n",
    "```\n",
    "{\n",
    "    \"name\": \"My Store\",\n",
    "    \"items\": [\n",
    "        {\n",
    "            \"name\": \"Chair\",\n",
    "            \"price\": 175.50\n",
    "        }\n",
    "    ]\n",
    "}\n",
    "```"
   ]
  },
  {
   "cell_type": "markdown",
   "metadata": {},
   "source": [
    "##### Receber apenas os itens da loja"
   ]
  },
  {
   "cell_type": "markdown",
   "metadata": {},
   "source": [
    "Solicitação:\n",
    "\n",
    "```\n",
    "GET /store/My Store/item\n",
    "```"
   ]
  },
  {
   "cell_type": "markdown",
   "metadata": {},
   "source": [
    "Resposta:\n",
    "\n",
    "```\n",
    "[\n",
    "    {\n",
    "        \"name\": \"Chair\",\n",
    "        \"price\": 175.50\n",
    "    }\n",
    "]\n",
    "```"
   ]
  },
  {
   "cell_type": "markdown",
   "metadata": {},
   "source": [
    "### Criando o Ambiente"
   ]
  },
  {
   "cell_type": "markdown",
   "metadata": {},
   "source": [
    "#### Windows"
   ]
  },
  {
   "cell_type": "markdown",
   "metadata": {},
   "source": [
    "Criar o ambiente virtual em Python é fácil, desde que sejam usados os comandos certos"
   ]
  },
  {
   "cell_type": "markdown",
   "metadata": {},
   "source": [
    "##### Instalar o ambiente virtual"
   ]
  },
  {
   "cell_type": "markdown",
   "metadata": {},
   "source": [
    "- No Terminal do VSCode, rodar o seguinte comando:\n",
    "\n",
    "```\n",
    "pip install virtualenv\n",
    "```"
   ]
  },
  {
   "cell_type": "markdown",
   "metadata": {},
   "source": [
    "##### Criar um novo ambiente virtual"
   ]
  },
  {
   "cell_type": "markdown",
   "metadata": {},
   "source": [
    "- No Terminal do VSCode, rodar o seguinte comando:\n",
    "\n",
    "```\n",
    "python -m venv nome_do_ambiente_virtual\n",
    "```"
   ]
  },
  {
   "cell_type": "markdown",
   "metadata": {},
   "source": [
    "##### Ativar o novo ambiente virtual"
   ]
  },
  {
   "cell_type": "markdown",
   "metadata": {},
   "source": [
    "- Primeiramente, é necessário modificar a permissão\n",
    "\n",
    "```\n",
    "Set-ExecutionPolicy Unrestricted -Scope Process\n",
    "```\n",
    "\n",
    "- Depois é só ativar\n",
    "\n",
    "```\n",
    ".\\nome_do_ambiente_virtual\\Scripts\\activate.ps1\n",
    "```"
   ]
  },
  {
   "cell_type": "markdown",
   "metadata": {},
   "source": [
    "Aí é só usar :D"
   ]
  }
 ],
 "metadata": {
  "kernelspec": {
   "display_name": "Python 3.11.0 64-bit",
   "language": "python",
   "name": "python3"
  },
  "language_info": {
   "codemirror_mode": {
    "name": "ipython",
    "version": 3
   },
   "file_extension": ".py",
   "mimetype": "text/x-python",
   "name": "python",
   "nbconvert_exporter": "python",
   "pygments_lexer": "ipython3",
   "version": "3.11.0"
  },
  "orig_nbformat": 4,
  "vscode": {
   "interpreter": {
    "hash": "a008c25d2654ffd85eeda02bffc991cb6353df80df7a931f6fcf4d2355376351"
   }
  }
 },
 "nbformat": 4,
 "nbformat_minor": 2
}
